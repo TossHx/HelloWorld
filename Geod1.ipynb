{
  "nbformat": 4,
  "nbformat_minor": 0,
  "metadata": {
    "colab": {
      "name": "Geod1.ipynb",
      "provenance": [],
      "collapsed_sections": [],
      "authorship_tag": "ABX9TyNXAGA4XR20JBYkvJ/U0rW3",
      "include_colab_link": true
    },
    "kernelspec": {
      "name": "python3",
      "display_name": "Python 3"
    }
  },
  "cells": [
    {
      "cell_type": "markdown",
      "metadata": {
        "id": "view-in-github",
        "colab_type": "text"
      },
      "source": [
        "<a href=\"https://colab.research.google.com/github/TossHx/HelloWorld/blob/master/Geod1.ipynb\" target=\"_parent\"><img src=\"https://colab.research.google.com/assets/colab-badge.svg\" alt=\"Open In Colab\"/></a>"
      ]
    },
    {
      "cell_type": "code",
      "metadata": {
        "id": "iZuCul302_Ly"
      },
      "source": [
        "from urllib.request import urlopen\n",
        "import json\n",
        "import pandas as pd\n",
        "import numpy as np\n",
        "from random import random\n",
        "import plotly.express as px"
      ],
      "execution_count": 1,
      "outputs": []
    },
    {
      "cell_type": "code",
      "metadata": {
        "id": "z70Yn1wFN5fQ",
        "outputId": "d0235e13-089f-43e8-c9e9-89ebaa7653c7",
        "colab": {
          "base_uri": "https://localhost:8080/",
          "height": 289
        }
      },
      "source": [
        "!pip install geocoder\n",
        "import geocoder"
      ],
      "execution_count": 2,
      "outputs": [
        {
          "output_type": "stream",
          "text": [
            "Collecting geocoder\n",
            "\u001b[?25l  Downloading https://files.pythonhosted.org/packages/4f/6b/13166c909ad2f2d76b929a4227c952630ebaf0d729f6317eb09cbceccbab/geocoder-1.38.1-py2.py3-none-any.whl (98kB)\n",
            "\r\u001b[K     |███▎                            | 10kB 16.9MB/s eta 0:00:01\r\u001b[K     |██████▋                         | 20kB 1.7MB/s eta 0:00:01\r\u001b[K     |██████████                      | 30kB 2.0MB/s eta 0:00:01\r\u001b[K     |█████████████▎                  | 40kB 2.3MB/s eta 0:00:01\r\u001b[K     |████████████████▋               | 51kB 2.0MB/s eta 0:00:01\r\u001b[K     |████████████████████            | 61kB 2.2MB/s eta 0:00:01\r\u001b[K     |███████████████████████▎        | 71kB 2.4MB/s eta 0:00:01\r\u001b[K     |██████████████████████████▋     | 81kB 2.6MB/s eta 0:00:01\r\u001b[K     |██████████████████████████████  | 92kB 2.8MB/s eta 0:00:01\r\u001b[K     |████████████████████████████████| 102kB 2.3MB/s \n",
            "\u001b[?25hRequirement already satisfied: six in /usr/local/lib/python3.6/dist-packages (from geocoder) (1.15.0)\n",
            "Requirement already satisfied: requests in /usr/local/lib/python3.6/dist-packages (from geocoder) (2.23.0)\n",
            "Requirement already satisfied: click in /usr/local/lib/python3.6/dist-packages (from geocoder) (7.1.2)\n",
            "Collecting ratelim\n",
            "  Downloading https://files.pythonhosted.org/packages/f2/98/7e6d147fd16a10a5f821db6e25f192265d6ecca3d82957a4fdd592cad49c/ratelim-0.1.6-py2.py3-none-any.whl\n",
            "Requirement already satisfied: future in /usr/local/lib/python3.6/dist-packages (from geocoder) (0.16.0)\n",
            "Requirement already satisfied: urllib3!=1.25.0,!=1.25.1,<1.26,>=1.21.1 in /usr/local/lib/python3.6/dist-packages (from requests->geocoder) (1.24.3)\n",
            "Requirement already satisfied: certifi>=2017.4.17 in /usr/local/lib/python3.6/dist-packages (from requests->geocoder) (2020.6.20)\n",
            "Requirement already satisfied: idna<3,>=2.5 in /usr/local/lib/python3.6/dist-packages (from requests->geocoder) (2.10)\n",
            "Requirement already satisfied: chardet<4,>=3.0.2 in /usr/local/lib/python3.6/dist-packages (from requests->geocoder) (3.0.4)\n",
            "Requirement already satisfied: decorator in /usr/local/lib/python3.6/dist-packages (from ratelim->geocoder) (4.4.2)\n",
            "Installing collected packages: ratelim, geocoder\n",
            "Successfully installed geocoder-1.38.1 ratelim-0.1.6\n"
          ],
          "name": "stdout"
        }
      ]
    },
    {
      "cell_type": "code",
      "metadata": {
        "id": "1uh5RMWpOEGE"
      },
      "source": [
        "#g = geocoder.osm('1600 Amphitheatre Pkwy, Mountain View, CA')\n",
        "def such_lat_lon(adresse):\n",
        "    g = geocoder.osm(adresse)\n",
        "    if g.latlng is None:\n",
        "        aus = [None, None]\n",
        "    else:\n",
        "        aus = g.latlng\n",
        "        \n",
        "    return(aus)"
      ],
      "execution_count": 3,
      "outputs": []
    },
    {
      "cell_type": "code",
      "metadata": {
        "id": "rEzOy5rORwoO"
      },
      "source": [
        "# csv-Datei einlesen\n",
        "verkauf = pd.read_csv(\"./etsy2020.csv\")\n",
        "\n",
        "# adresse zusammensetzen \n",
        "verkauf[\"addr\"] = verkauf[\"Strasse\"] + \", \" + verkauf[\"PLZ\"].map(str)  + \" \" + verkauf[\"Ort\"] + \", DE\"\n",
        "\n",
        "# Datum zerlegen\n",
        "winter = [12, 1, 2]\n",
        "spring = [ 3, 4, 5]\n",
        "summer = [ 6, 7, 8]\n",
        "autumn = [ 9,10,11]\n",
        "verkauf[\"Verkaufsdatum\"] = pd.to_datetime(verkauf[\"Verkaufsdatum\"])\n",
        "verkauf[\"Jahr\"] = verkauf[\"Verkaufsdatum\"].dt.year\n",
        "verkauf[\"Monat\"] = verkauf[\"Verkaufsdatum\"].dt.month\n",
        "verkauf[\"Tag\"]   = verkauf[\"Verkaufsdatum\"].dt.day\n",
        "verkauf.loc[verkauf.Monat.isin(winter), \"season\"] = \"Winter\"\n",
        "verkauf.loc[verkauf.Monat.isin(spring), \"season\"] = \"Frühling\"\n",
        "verkauf.loc[verkauf.Monat.isin(summer), \"season\"] = \"Sommer\"\n",
        "verkauf.loc[verkauf.Monat.isin(autumn), \"season\"] = \"Herbst\"\n"
      ],
      "execution_count": 9,
      "outputs": []
    },
    {
      "cell_type": "code",
      "metadata": {
        "id": "K4uxEdP-Trrm"
      },
      "source": [
        "# addr = verkauf[\"Strasse\",\"PLZ\",\"Ort\"].copy\n",
        "\n",
        "k=0\n",
        "for i in verkauf[\"addr\"]:\n",
        "   # print(i)\n",
        "   lat, lon = such_lat_lon(i)\n",
        "   # print(lat,lon)\n",
        "   verkauf.at[verkauf.index[k],\"lat\"] = lat\n",
        "   verkauf.at[verkauf.index[k],\"lon\"] = lon\n",
        "   k=k+1"
      ],
      "execution_count": 12,
      "outputs": []
    },
    {
      "cell_type": "code",
      "metadata": {
        "id": "a2Lgi2Pqhx1E"
      },
      "source": [
        "\n",
        "ft_cities = verkauf[[\"lat\",\"lon\",\"Ort\",\"Titel\",\"season\"]]\n",
        "ft_cities.head()\n",
        "ft_cities.dropna(subset=['lat'])\n",
        "\n",
        "fig = px.scatter_mapbox(ft_cities, lat=\"lat\", lon=\"lon\", color = \"season\" , hover_name=\"Ort\", hover_data=[\"Titel\"],\n",
        "                        #color_discrete_sequence=[\"fuchsia\"], \n",
        "                        zoom=4, height=600)\n",
        "fig.update_layout(mapbox_style=\"open-street-map\")\n",
        "fig.update_layout(margin={\"r\":0,\"t\":0,\"l\":0,\"b\":0})\n",
        "fig.show()"
      ],
      "execution_count": null,
      "outputs": []
    },
    {
      "cell_type": "code",
      "metadata": {
        "id": "yqwUYQWIVoWc"
      },
      "source": [
        "tx = verkauf\n",
        "#tx.dropna(subset=[\"Versanddatum\"])\n",
        "\n",
        "#print(tx.head)\n",
        "#tx =tx[\"Versanddatum\"]\n",
        "#tx.dropna(subset=['Versanddatum'])\n",
        "t2[\"Verkaufsdatum\"] = pd.to_datetime(t2[\"Verkaufsdatum\"])\n",
        "t2[\"Jahr\"] = t2[\"Verkaufsdatum\"].dt.year\n",
        "t2[\"Monat\"] = t2[\"Verkaufsdatum\"].dt.month\n",
        "t2[\"Tag\"] = t2[\"Verkaufsdatum\"].dt.day\n",
        "\n",
        "tx[\"m\"] = [s[0:2]  if s[2:3] == '/' else s[0:5] for s in tx[\"Versanddatum\"]]\n",
        "tx[\"d\"] = [s[3:5]  if s[2:3] == '/' else s[0:5] for s in tx[\"Versanddatum\"]]\n",
        "tx[\"y\"] = [s[6:8]  if s[2:3] == '/' else s[0:5] for s in tx[\"Versanddatum\"]]\n",
        "#tx.at[\"spl\"] = tx[\"Versanddatum\"].split(\"/\").get(1)\n",
        "print(tx)\n"
      ],
      "execution_count": null,
      "outputs": []
    },
    {
      "cell_type": "code",
      "metadata": {
        "id": "9dO8O9LzxAOM"
      },
      "source": [
        "t2 = verkauf\n",
        "\n",
        "t2[\"Verkaufsdatum\"] = pd.to_datetime(t2[\"Verkaufsdatum\"])\n",
        "t2[\"Jahr\"] = t2[\"Verkaufsdatum\"].dt.year\n",
        "t2[\"Monat\"] = t2[\"Verkaufsdatum\"].dt.month\n",
        "t2[\"Tag\"] = t2[\"Verkaufsdatum\"].dt.day\n",
        "#t2[\"y\"] = [to_date(d,\"mm/dd/yyyy\") for d in t2[\"x\"]]\n",
        "print(t2)\n",
        "#t2['monat'] = t2[\"Verkaufsdatum\"].apply()"
      ],
      "execution_count": null,
      "outputs": []
    },
    {
      "cell_type": "code",
      "metadata": {
        "id": "2wupkjowtv9e"
      },
      "source": [
        "y = verkauf.groupby([\"season\"]).agg(['count'])\n",
        "print(y)"
      ],
      "execution_count": null,
      "outputs": []
    },
    {
      "cell_type": "code",
      "metadata": {
        "id": "y_V23ruYGeN2"
      },
      "source": [
        "\n",
        "ft_cities = verkauf[[\"lat\",\"lon\",\"Ort\",\"Titel\"]]\n",
        "ft_cities.tail()\n",
        "\n",
        "verkauf.head()\n"
      ],
      "execution_count": null,
      "outputs": []
    }
  ]
}