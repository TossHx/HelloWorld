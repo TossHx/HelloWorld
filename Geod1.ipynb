{
  "nbformat": 4,
  "nbformat_minor": 0,
  "metadata": {
    "colab": {
      "name": "Geod1.ipynb",
      "provenance": [],
      "collapsed_sections": [],
      "authorship_tag": "ABX9TyNonXgTL9Cpz1O5yR5bzNp9",
      "include_colab_link": true
    },
    "kernelspec": {
      "name": "python3",
      "display_name": "Python 3"
    }
  },
  "cells": [
    {
      "cell_type": "markdown",
      "metadata": {
        "id": "view-in-github",
        "colab_type": "text"
      },
      "source": [
        "<a href=\"https://colab.research.google.com/github/TossHx/HelloWorld/blob/master/Geod1.ipynb\" target=\"_parent\"><img src=\"https://colab.research.google.com/assets/colab-badge.svg\" alt=\"Open In Colab\"/></a>"
      ]
    },
    {
      "cell_type": "code",
      "metadata": {
        "id": "iZuCul302_Ly"
      },
      "source": [
        "from urllib.request import urlopen\n",
        "import json\n",
        "import pandas as pd\n",
        "import numpy as np\n",
        "from random import random\n",
        "import plotly.express as px "
      ],
      "execution_count": 2,
      "outputs": []
    },
    {
      "cell_type": "code",
      "metadata": {
        "id": "z70Yn1wFN5fQ",
        "outputId": "09a7bb0b-4c46-48a0-ccb2-871bfb77a88d",
        "colab": {
          "base_uri": "https://localhost:8080/"
        }
      },
      "source": [
        "!pip install geocoder\n",
        "import geocoder"
      ],
      "execution_count": 3,
      "outputs": [
        {
          "output_type": "stream",
          "text": [
            "Collecting geocoder\n",
            "\u001b[?25l  Downloading https://files.pythonhosted.org/packages/4f/6b/13166c909ad2f2d76b929a4227c952630ebaf0d729f6317eb09cbceccbab/geocoder-1.38.1-py2.py3-none-any.whl (98kB)\n",
            "\r\u001b[K     |███▎                            | 10kB 16.1MB/s eta 0:00:01\r\u001b[K     |██████▋                         | 20kB 1.5MB/s eta 0:00:01\r\u001b[K     |██████████                      | 30kB 2.0MB/s eta 0:00:01\r\u001b[K     |█████████████▎                  | 40kB 1.6MB/s eta 0:00:01\r\u001b[K     |████████████████▋               | 51kB 1.9MB/s eta 0:00:01\r\u001b[K     |████████████████████            | 61kB 2.2MB/s eta 0:00:01\r\u001b[K     |███████████████████████▎        | 71kB 2.3MB/s eta 0:00:01\r\u001b[K     |██████████████████████████▋     | 81kB 2.6MB/s eta 0:00:01\r\u001b[K     |██████████████████████████████  | 92kB 2.8MB/s eta 0:00:01\r\u001b[K     |████████████████████████████████| 102kB 2.2MB/s \n",
            "\u001b[?25hRequirement already satisfied: future in /usr/local/lib/python3.6/dist-packages (from geocoder) (0.16.0)\n",
            "Collecting ratelim\n",
            "  Downloading https://files.pythonhosted.org/packages/f2/98/7e6d147fd16a10a5f821db6e25f192265d6ecca3d82957a4fdd592cad49c/ratelim-0.1.6-py2.py3-none-any.whl\n",
            "Requirement already satisfied: six in /usr/local/lib/python3.6/dist-packages (from geocoder) (1.15.0)\n",
            "Requirement already satisfied: click in /usr/local/lib/python3.6/dist-packages (from geocoder) (7.1.2)\n",
            "Requirement already satisfied: requests in /usr/local/lib/python3.6/dist-packages (from geocoder) (2.23.0)\n",
            "Requirement already satisfied: decorator in /usr/local/lib/python3.6/dist-packages (from ratelim->geocoder) (4.4.2)\n",
            "Requirement already satisfied: idna<3,>=2.5 in /usr/local/lib/python3.6/dist-packages (from requests->geocoder) (2.10)\n",
            "Requirement already satisfied: urllib3!=1.25.0,!=1.25.1,<1.26,>=1.21.1 in /usr/local/lib/python3.6/dist-packages (from requests->geocoder) (1.24.3)\n",
            "Requirement already satisfied: chardet<4,>=3.0.2 in /usr/local/lib/python3.6/dist-packages (from requests->geocoder) (3.0.4)\n",
            "Requirement already satisfied: certifi>=2017.4.17 in /usr/local/lib/python3.6/dist-packages (from requests->geocoder) (2020.6.20)\n",
            "Installing collected packages: ratelim, geocoder\n",
            "Successfully installed geocoder-1.38.1 ratelim-0.1.6\n"
          ],
          "name": "stdout"
        }
      ]
    },
    {
      "cell_type": "code",
      "metadata": {
        "id": "1uh5RMWpOEGE"
      },
      "source": [
        "#g = geocoder.osm('1600 Amphitheatre Pkwy, Mountain View, CA')\n",
        "def such_lat_lon(adresse):\n",
        "    g = geocoder.osm(adresse)\n",
        "    if g.latlng is None:\n",
        "        aus = [None, None]\n",
        "    else:\n",
        "        aus = g.latlng\n",
        "        \n",
        "    return(aus)"
      ],
      "execution_count": 4,
      "outputs": []
    },
    {
      "cell_type": "code",
      "metadata": {
        "id": "rEzOy5rORwoO"
      },
      "source": [
        "# csv-Datei einlesen\n",
        "verkauf = pd.read_csv(\"./etsy2020.csv\")\n",
        "\n",
        "# adresse zusammensetzen \n",
        "verkauf[\"addr\"] = verkauf[\"Strasse\"] + \", \" + verkauf[\"PLZ\"].map(str)  + \" \" + verkauf[\"Ort\"] + \", DE\"\n",
        "\n",
        "# Datum zerlegen\n",
        "verkauf[\"Verkaufsdatum\"] = pd.to_datetime(verkauf[\"Verkaufsdatum\"])\n",
        "verkauf[\"Jahr\"] = verkauf[\"Verkaufsdatum\"].dt.year\n",
        "verkauf[\"Monat\"] = verkauf[\"Verkaufsdatum\"].dt.month\n",
        "verkauf[\"Tag\"]   = verkauf[\"Verkaufsdatum\"].dt.day\n"
      ],
      "execution_count": 109,
      "outputs": []
    },
    {
      "cell_type": "code",
      "metadata": {
        "id": "K4uxEdP-Trrm"
      },
      "source": [
        "# addr = verkauf[\"Strasse\",\"PLZ\",\"Ort\"].copy\n",
        "\n",
        "k=0\n",
        "for i in verkauf[\"addr\"]:\n",
        "   # print(i)\n",
        "   lat, lon = such_lat_lon(i)\n",
        "   # print(lat,lon)\n",
        "   verkauf.at[verkauf.index[k],\"lat\"] = lat\n",
        "   verkauf.at[verkauf.index[k],\"lon\"] = lon\n",
        "   k=k+1"
      ],
      "execution_count": 110,
      "outputs": []
    },
    {
      "cell_type": "code",
      "metadata": {
        "id": "a2Lgi2Pqhx1E",
        "outputId": "2ee247b7-98b4-4b8e-9565-1d577b1019d6",
        "colab": {
          "base_uri": "https://localhost:8080/",
          "height": 617
        }
      },
      "source": [
        "\n",
        "ft_cities = verkauf[[\"lat\",\"lon\",\"Ort\",\"Titel\",\"Monat\"]]\n",
        "ft_cities.head()\n",
        "ft_cities.dropna(subset=['lat'])\n",
        "\n",
        "fig = px.scatter_mapbox(ft_cities, lat=\"lat\", lon=\"lon\", color = \"Monat\" , hover_name=\"Ort\", hover_data=[\"Titel\"],\n",
        "                        #color_discrete_sequence=[\"fuchsia\"], \n",
        "                        zoom=4, height=600)\n",
        "fig.update_layout(mapbox_style=\"open-street-map\")\n",
        "fig.update_layout(margin={\"r\":0,\"t\":0,\"l\":0,\"b\":0})\n",
        "fig.show()"
      ],
      "execution_count": 114,
      "outputs": [
        {
          "output_type": "display_data",
          "data": {
            "text/html": [
              "<html>\n",
              "<head><meta charset=\"utf-8\" /></head>\n",
              "<body>\n",
              "    <div>\n",
              "            <script src=\"https://cdnjs.cloudflare.com/ajax/libs/mathjax/2.7.5/MathJax.js?config=TeX-AMS-MML_SVG\"></script><script type=\"text/javascript\">if (window.MathJax) {MathJax.Hub.Config({SVG: {font: \"STIX-Web\"}});}</script>\n",
              "                <script type=\"text/javascript\">window.PlotlyConfig = {MathJaxConfig: 'local'};</script>\n",
              "        <script src=\"https://cdn.plot.ly/plotly-latest.min.js\"></script>    \n",
              "            <div id=\"1ae8080b-eb6f-4d70-9fec-9cec7e31e730\" class=\"plotly-graph-div\" style=\"height:600px; width:100%;\"></div>\n",
              "            <script type=\"text/javascript\">\n",
              "                \n",
              "                    window.PLOTLYENV=window.PLOTLYENV || {};\n",
              "                    \n",
              "                if (document.getElementById(\"1ae8080b-eb6f-4d70-9fec-9cec7e31e730\")) {\n",
              "                    Plotly.newPlot(\n",
              "                        '1ae8080b-eb6f-4d70-9fec-9cec7e31e730',\n",
              "                        [{\"customdata\": [[\"M\\u00e4ppchen \\\"richtig viel Chemie\\\"\"], [\"M\\u00e4ppchen \\\"Lehrerkram\\u201c ( Bleistifte)\"], [\"M\\u00e4ppchen \\\"Lehrerkram\\\" (Buchstabenw\\u00fcrfel)\"], [\"M\\u00e4ppchen \\u201eLehrerkram\\u201c (grau/rosa Sternchen)\"], [\"M\\u00e4ppchen \\\"Lehrerkram\\u201c (a bis z) blau\"], [\"M\\u00e4ppchen \\\"Lehrerkram\\u201c (Mathe) grau/farbig\"], [\"M\\u00e4ppchen \\\"Lehrerkram\\u201e (Buchstaben)\"], [\"M\\u00e4ppchen \\\"Lehrerkram\\\" (Weltkarte)\"], [\"M\\u00e4ppchen \\\"Lehrerkram\\u201c (a bis z) blau\"], [\"Wimpelkette aus Stoff (petrol/ocker)\"], [\"M\\u00e4ppchen \\\"Lehrerkram\\u201c (sauber formuliert)\"], [\"M\\u00e4ppchen \\\"Lehrerkram\\u201c (Pusteblume)\"], [\"M\\u00e4ppchen \\\"Lehrerkram\\u201c (Mathe) grau/farbig\"], [\"M\\u00e4ppchen \\\"richtig viel Chemie\\\"\"], [\"M\\u00e4ppchen \\\"Lehrerkram\\u201c (Mathe) blau\"], [\"M\\u00e4ppchen \\\"Lehrerkram\\u201c (Mathe) grau/farbig\"], [\"M\\u00e4ppchen \\\"wilde Mathematik\\\"\"], [\"Wimpelkette aus Stoff (grau)\"], [\"Schminkt\\u00e4schchen \\\"schwarze Katze\\\"\"], [\"M\\u00e4ppchen \\u201eLehrerkram\\u201c (grau/h.blau gepunktet)\"], [\"M\\u00e4ppchen \\\"Lehrerkram\\\" (Weltkarte)\"], [\"2 Lunchbeutel\"], [\"Wickeltasche \\\"Unterwasserwelt\\\"\"], [\"M\\u00e4ppchen \\\"Lehrerkram\\\" (Buchstabenw\\u00fcrfel)\"], [\"M\\u00e4ppchen \\\"Lehrerkram\\u201c (Mathe) grau/farbig\"], [\"Wimpelkette aus Stoff (petrol/ocker)\"], [\"M\\u00e4ppchen \\\"Lehrerkram\\u201c (Pusteblume)\"], [\"Adventskalender Komplett-Set (Sterne, marsala) 24 S\\u00e4ckchen mit aufgestickten Zahlen und B\\u00e4ndchen\"], [\"Adventskalender Komplett-Set (Weihnachtszauber, mint/grau) 24 S\\u00e4ckchen mit aufgestickten Zahlen und B\\u00e4ndchen\"], [\"M\\u00e4ppchen \\\"Lehrerkram\\\" (Ma\\u00dfband)\"], [\"M\\u00e4ppchen \\\"Lehrerkram\\u201c (Chemie)\"], [\"M\\u00e4ppchen \\\"richtig viel Chemie\\\"\"], [\"M\\u00e4ppchen \\\"Lehrerkram\\u201c (Pusteblume)\"], [\"M\\u00e4ppchen \\\"Lehrerkram\\u201c (Pusteblume)\"], [\"Wickeltasche \\\"gr\\u00fcne Natur\\\"\"], [\"M\\u00e4ppchen \\u201eLehrerkram\\u201c (grau/rosa Sternchen)\"], [\"M\\u00e4ppchen \\u201eLehrerkram\\u201c\"], [\"Kuschel-Kissen mit Wunschtext\"], [\"M\\u00e4ppchen \\\"Lehrerkram\\u201c (Mathe) grau/farbig\"], [\"Wickeltasche \\\"Im Wald ist was los\\\" (beige/blau)\"], [\"M\\u00e4ppchen \\\"Lehrerkram\\u201c (Pusteblume)\"], [\"M\\u00e4ppchen \\\"Lehrerkram\\u201c (a bis z) blau\"], [\"M\\u00e4ppchen \\\"Lehrerkram\\u201c (Chemie)\"], [\"M\\u00e4ppchen \\\"Lehrerkram\\\" (Ma\\u00dfband)\"], [\"M\\u00e4ppchen \\\"Lehrerkram\\u201c (Mathe) grau/farbig\"], [\"M\\u00e4ppchen \\\"Lehrerkram\\u201c (Pusteblume)\"], [\"M\\u00e4ppchen \\\"Lehrerkram\\u201c (Chemie-Labor)\"], [\"Wickeltasche \\\"Bl\\u00fcmchen\\\"\"], [\"M\\u00e4ppchen \\u201eLehrerkram\\u201c\"], [\"M\\u00e4ppchen \\\"teacher\\u02cbs stuff \\\"\"], [\"M\\u00e4ppchen \\\"Lehrerkram\\\" (Weltkarte)\"], [\"M\\u00e4ppchen \\u201eLehrerkram\\u201c (grau/h.blau gepunktet)\"], [\"M\\u00e4ppchen \\\"Lehrerkram\\u201c (a bis z) blau\"], [\"M\\u00e4ppchen \\\"Lehrerkram\\u201c (Pusteblume)\"], [\"M\\u00e4ppchen \\\"richtig viele Stifte\\\" (grau/schwarz)\"], [\"M\\u00e4ppchen \\\"richtig viel Chemie\\\"\"], [\"M\\u00e4ppchen \\\"Lehrerkram\\u201c (a bis z) blau\"], [\"M\\u00e4ppchen \\\"Lehrerkram\\u201c (Chemie)\"], [\"M\\u00e4ppchen \\\"teacher\\u02cbs stuff \\\"\"], [\"Wimpelkette aus Stoff (petrol/ocker)\"], [\"M\\u00e4ppchen \\\"Lehrerkram\\u201c (a bis z) blau\"], [\"Kuschel-Kissen \\\"Collie\\\"\"], [\"M\\u00e4ppchen \\\"Lehrerkram\\\" (Ma\\u00dfband)\"], [\"Wickeltasche \\\"Wildkatzen\\\"\"], [\"Wickeltasche \\\"Unterwasserwelt\\\"\"], [\"M\\u00e4ppchen \\\"Lehrerkram\\u201c (Chemie)\"], [\"M\\u00e4ppchen \\\"Lehrerkram\\u201c (Fr\\u00f6sche)\"], [\"M\\u00e4ppchen \\\"Lehrerkram\\u201c ( Bleistifte)\"], [\"Wickeltasche \\\"Im Wald ist was los\\\" (beige/blau)\"], [\"M\\u00e4ppchen \\\"richtig viel Chemie\\\"\"], [\"M\\u00e4ppchen \\\"Lehrerkram\\u201c (Mathe) grau/farbig\"], [\"Grill-Sch\\u00fcrze \\\"natural born griller\\\"\"], [\"M\\u00e4ppchen \\\"Lehrerkram\\\" (Weltkarte)\"], [\"Kuschel-Kissen \\\"Aussie\\\"\"], [\"M\\u00e4ppchen \\\"Lehrerkram\\\" (Buchstabenw\\u00fcrfel)\"], [\"M\\u00e4ppchen \\\"Lehrerkram\\u201c (a bis z) blau\"], [\"M\\u00e4ppchen \\\"Lehrerkram\\\" (Weltkarte)\"], [\"Beulentr\\u00f6ster \\\"L\\u00f6we\\\"\"], [\"M\\u00e4ppchen \\\"Lehrerkram\\u201c (Fr\\u00f6sche)\"], [\"M\\u00e4ppchen \\\"Lehrerkram\\u201c (Mathe) blau\"], [\"M\\u00e4ppchen \\\"Lehrerkram\\u201c (Pusteblume)\"], [\"M\\u00e4ppchen \\\"richtig viel Naturwissenschaft\\\" (grau/schwarz)\"], [\"M\\u00e4ppchen \\\"Lehrerkram\\u201c (Mathe) grau/farbig\"], [\"Wickeltasche \\\"schlauer Fuchs\\\"\"], [\"M\\u00e4ppchen \\\"richtig viel Chemie\\\"\"], [\"M\\u00e4ppchen \\\"Lehrerkram\\\" (Weltkarte)\"], [\"M\\u00e4ppchen \\\"Lieblingslehrerin\\\" (friends)\"], [\"Wickeltasche \\\"Im Wald ist was los\\\" (beige/blau)\"], [\"M\\u00e4ppchen \\\"Lehrerkram\\u201c (Mathe) grau/farbig\"], [\"M\\u00e4ppchen \\\"Lehrerkram\\\" (Buchstabenw\\u00fcrfel)\"], [\"Wimpelkette aus Stoff (7 Wimpel, Fuchs)\"], [\"M\\u00e4ppchen \\\"Lehrerkram\\u201c (Pusteblume)\"], [\"M\\u00e4ppchen \\\"Lehrerkram\\u201c (Pusteblume)\"], [\"M\\u00e4ppchen \\\"Lehrerkram\\u201c (Pusteblume)\"], [\"M\\u00e4ppchen \\\"Lieblingslehrerin\\\" (Rosen)\"], [\"Sommer-Decke \\u201eMarienk\\u00e4fer\\u201c\"], [\"Sommer-Decke \\\"Campingbus\\\"\"], [\"M\\u00e4ppchen \\\"Lieblingslehrerin\\\" (Ornament)\"], [\"M\\u00e4ppchen \\u201eLehrerkram\\u201c (grau/h.blau gepunktet)\"], [\"Kulturbeutel \\\"Ab ins Bett!\\\" (Strandhaus, blau)\"], [\"M\\u00e4ppchen \\\"richtig viel Graphen\\\" (schwarz/blau)\"], [\"M\\u00e4ppchen \\\"Lehrerkram\\\" (Weltkarte)\"], [\"M\\u00e4ppchen \\\"Lieblingslehrerin\\\" (friends)\"], [\"M\\u00e4ppchen \\\"Lehrerkram\\u201c (Mathe) grau/farbig\"], [\"Schminkt\\u00e4schchen \\\"Hundehaufen\\u201c\"], [\"M\\u00e4ppchen \\\"Lehrerkram\\\" (Weltkarte)\"], [\"M\\u00e4ppchen \\\"richtig viel Chemie\\\"\"], [\"M\\u00e4ppchen \\\"Lehrerkram\\u201c ( Bleistifte)\"], [\"M\\u00e4ppchen \\\"Lehrerkram\\u201c (Pusteblume)\"], [\"M\\u00e4ppchen \\\"Lehrerkram\\\" (Musik, schwarz/wei\\u00df)\"], [\"M\\u00e4ppchen \\\"Schreibkram\\\" (B\\u00fcroklammern)\"], [\"M\\u00e4ppchen \\\"Lehrerkram\\u201c (Fr\\u00f6sche)\"], [\"M\\u00e4ppchen \\\"Lieblingslehrerin\\\" (Ornament)\"], [\"M\\u00e4ppchen \\\"Lehrerkram\\u201c (Mathe) grau/farbig\"], [\"M\\u00e4ppchen \\\"Lehrerkram\\\" (Ma\\u00dfband)\"], [\"M\\u00e4ppchen \\\"Lehrerkram\\\" (Musik)\"], [\"M\\u00e4ppchen \\\"Lehrerkram\\\" (Musik, schwarz/wei\\u00df)\"], [\"M\\u00e4ppchen \\\"Lehrerkram\\u201c (a bis z) blau\"], [\"M\\u00e4ppchen \\u201eLehrerkram\\u201c (grau/h.blau gepunktet)\"], [\"Wimpelkette aus Stoff (grau)\"], [\"M\\u00e4ppchen \\\"Lieblingslehrerin\\\" (Bl\\u00fcten)\"], [\"M\\u00e4ppchen \\\"Lieblingslehrerin\\\"\"], [\"M\\u00e4ppchen \\\"Lehrerkram\\u201c (Pusteblume)\"], [\"M\\u00e4ppchen \\\"Lehrerkram\\u201c (a bis z) blau\"], [\"M\\u00e4ppchen \\\"Lehrerkram\\u201c (Pusteblume)\"], [\"Wickeltasche \\\"Unterwasserwelt\\\"\"], [\"M\\u00e4ppchen \\\"richtig viel Graphen\\\" (schwarz/blau)\"], [\"M\\u00e4ppchen \\\"Lehrerkram\\\" (Musik)\"], [\"M\\u00e4ppchen \\\"Lehrerkram\\u201c (Mathe) blau\"], [\"M\\u00e4ppchen \\\"Lehrerkram\\u201c ( Bleistifte)\"], [\"M\\u00e4ppchen \\\"Lehrerkram\\\" (Punkte, blau/gr\\u00fcn)\"], [\"M\\u00e4ppchen \\\"Lehrerkram\\u201c ( Bleistifte)\"], [\"M\\u00e4ppchen \\\"Lehrerkram\\u201c (a bis z) blau\"], [\"M\\u00e4ppchen \\\"Lehrerkram\\\" (Ma\\u00dfband)\"], [\"M\\u00e4ppchen \\\"Lehrerkram\\u201c (Pusteblume)\"], [\"M\\u00e4ppchen \\\"Lehrerkram\\\" (Weltkarte)\"], [\"M\\u00e4ppchen \\\"Lehrerkram\\u201c (Fr\\u00f6sche)\"], [\"M\\u00e4ppchen \\\"Lieblingslehrerin\\\" (friends)\"], [\"M\\u00e4ppchen \\u201eLehrerkram\\u201c (grau/h.blau gepunktet)\"], [\"M\\u00e4ppchen \\\"Lehrerkram\\u201c (Mathe) grau/farbig\"], [\"M\\u00e4ppchen \\\"Lehrerkram\\\" (Musik, schwarz/wei\\u00df)\"], [\"M\\u00e4ppchen \\\"Lehrerkram\\u201c (Pusteblume)\"], [\"M\\u00e4ppchen \\\"richtig viel Chemie\\\"\"], [\"M\\u00e4ppchen \\\"richtig viel Graphen\\\" (schwarz/blau)\"], [\"M\\u00e4ppchen \\\"Lehrerkram\\u201c (Mathe) grau/farbig\"], [\"M\\u00e4ppchen \\\"Lehrerkram\\u201c (Pusteblume)\"], [\"M\\u00e4ppchen \\\"Lehrerkram\\\" (Musik)\"], [\"M\\u00e4ppchen \\\"Lehrerkram\\\" (Punkte, blau/gr\\u00fcn)\"], [\"M\\u00e4ppchen \\\"Lehrerkram\\u201c ( Bleistifte)\"], [\"M\\u00e4ppchen \\\"Lehrerkram\\u201c (Pusteblume)\"], [\"M\\u00e4ppchen \\\"Lehrerkram\\\" (Ma\\u00dfband)\"], [\"Kulturbeutel \\u201eG\\u00f6ttinnen altern nicht\\u201c (Rosetta, blau)\"], [\"M\\u00e4ppchen \\\"Lehrerkram\\u201c (Pusteblume)\"], [\"Sommer-Decke \\u201eErdbeerfeld\\\"\"], [\"Grill-Sch\\u00fcrze \\\"grillen & chillen, Bierchen killen\\u201c\"], [\"M\\u00e4ppchen \\\"Lehrerkram\\\" (Punkte, blau/gr\\u00fcn)\"], [\"M\\u00e4ppchen \\\"Lehrerkram\\\" (Ma\\u00dfband)\"], [\"M\\u00e4ppchen \\\"Lehrerkram\\\" (Weltkarte)\"], [\"M\\u00e4ppchen \\\"Lehrerkram\\\" (Buchstabenw\\u00fcrfel)\"], [\"M\\u00e4ppchen \\\"Lieblingslehrerin\\\" (Bl\\u00fcten)\"], [\"M\\u00e4ppchen \\\"Lehrerkram\\u201c (Mathe) grau/farbig\"], [\"M\\u00e4ppchen \\\"Lehrerkram\\u201c (Pusteblume)\"], [\"M\\u00e4ppchen \\\"richtig viel Graphen\\\" (schwarz/blau)\"], [\"M\\u00e4ppchen \\\"Lehrerkram\\\" (Buchstabenw\\u00fcrfel)\"], [\"M\\u00e4ppchen \\\"Lehrerkram\\u201c (Mathe) grau/farbig\"], [\"M\\u00e4ppchen \\\"Lehrerkram\\\" (Ma\\u00dfband)\"], [\"M\\u00e4ppchen \\\"Lieblingslehrerin\\\" (Rosen)\"], [\"M\\u00e4ppchen \\\"Lehrerkram\\\" (Punkte, blau/gr\\u00fcn)\"], [\"M\\u00e4ppchen \\\"Lieblingslehrerin\\\" (Ornament)\"], [\"M\\u00e4ppchen \\\"Lehrerkram\\u201c (Pusteblume)\"], [\"M\\u00e4ppchen \\\"Lehrerkram\\\" (Musik)\"], [\"M\\u00e4ppchen \\u201eLehrerkram\\u201c (grau/rosa Sternchen)\"], [\"M\\u00e4ppchen \\\"Lieblingslehrerin\\\"\"], [\"M\\u00e4ppchen \\\"Lieblingslehrerin\\\" (Rosen)\"], [\"M\\u00e4ppchen \\\"Lehrerkram\\u201c (Chemie)\"], [\"M\\u00e4ppchen \\\"Lehrerkram\\u201c (Mathe) blau\"], [\"M\\u00e4ppchen \\\"Lehrerkram\\u201c (a bis z) blau\"], [\"M\\u00e4ppchen \\\"Lehrerkram\\\" (Ma\\u00dfband)\"], [\"M\\u00e4ppchen \\\"Lehrerkram\\\" (Weltkarte)\"], [\"M\\u00e4ppchen \\\"richtig viel Chemie\\\"\"], [\"M\\u00e4ppchen \\\"Lehrerkram\\u201c (Mathe) blau\"], [\"M\\u00e4ppchen \\\"Lehrerkram\\\" (Buchstabenw\\u00fcrfel)\"], [\"M\\u00e4ppchen \\\"Lehrerkram\\u201c (Mathe) grau/farbig\"], [\"M\\u00e4ppchen \\\"Lehrerkram\\u201c (Pusteblume)\"], [\"Sommer-Decke f\\u00fcr Tanja\"], [\"M\\u00e4ppchen \\u201eLehrerkram\\u201c (grau/rosa Sternchen)\"], [\"M\\u00e4ppchen \\\"Lehrerkram\\u201c (Mathe) grau/farbig\"], [\"M\\u00e4ppchen \\\"teacher\\u02cbs stuff \\\"\"], [\"M\\u00e4ppchen \\u201eLehrerkram\\u201c\"], [\"M\\u00e4ppchen \\\"Lieblingslehrerin\\\" (Rosen)\"], [\"M\\u00e4ppchen \\\"Lehrerkram\\u201c (Mathe) blau\"], [\"M\\u00e4ppchen \\\"Lehrerkram\\\" (Buchstabenw\\u00fcrfel)\"], [\"M\\u00e4ppchen \\\"Lieblingslehrerin\\\" (Ornament)\"], [\"M\\u00e4ppchen \\\"richtig viel Graphen\\\" (schwarz/blau)\"], [\"M\\u00e4ppchen \\\"Lehrerkram\\u201c (Chemie-Tafel)\"], [\"M\\u00e4ppchen \\\"richtig viel Chemie\\\"\"], [\"M\\u00e4ppchen \\\"Lieblingslehrerin\\\"\"], [\"M\\u00e4ppchen \\\"Lehrerkram\\\" (Ma\\u00dfband)\"], [\"M\\u00e4ppchen \\\"Lehrerkram\\u201c (Pusteblume)\"], [\"M\\u00e4ppchen \\u201eLehrerkram\\u201c (grau/h.blau gepunktet)\"], [\"M\\u00e4ppchen \\\"Lehrerkram\\u201c (Mathe) grau/farbig\"], [\"M\\u00e4ppchen \\\"Lehrerkram\\\" (Musik)\"], [\"Wickeltasche \\\"Im Wald ist was los\\\" (beige/blau)\"], [\"M\\u00e4ppchen \\\"Lehrerkram\\u201c ( Bleistifte)\"], [\"M\\u00e4ppchen \\\"teacher\\u02cbs stuff \\\"\"], [\"M\\u00e4ppchen \\\"teacher\\u02cbs stuff \\\"\"], [\"M\\u00e4ppchen \\\"Lieblingslehrerin\\\" (friends)\"], [\"M\\u00e4ppchen \\\"Lehrerkram\\u201c (Mathe) grau/farbig\"], [\"M\\u00e4ppchen \\\"Lehrerkram\\\" (Weltkarte)\"], [\"M\\u00e4ppchen \\\"Lehrerkram\\\" (Musikinstrumente)\"], [\"Schminktasche \\\"G\\u00f6ttinnen altern nicht\\\" (Sterne)\"], [\"M\\u00e4ppchen \\\"Lehrerkram\\\" (Musik, schwarz/wei\\u00df)\"], [\"M\\u00e4ppchen \\\"Lehrerkram\\u201c (Chemie)\"], [\"M\\u00e4ppchen \\u201eLehrerkram\\u201c (grau/h.blau gepunktet)\"], [\"Lunch-Bag \\\"MINT\\\" (schwarz)\"], [\"M\\u00e4ppchen \\\"Lehrerkram\\u201c (Pusteblume)\"], [\"Lunch-Bag \\\"MINT\\u201c (grau)\"], [\"M\\u00e4ppchen \\\"Lehrerkram\\u201c (Mathe) grau/farbig\"], [\"M\\u00e4ppchen \\u201eLehrerkram\\u201c\"], [\"Lunch-Bag \\\"Chemie-Tafel\\u201c\"], [\"M\\u00e4ppchen \\\"Lehrerkram\\u201c ( Bleistifte)\"], [\"M\\u00e4ppchen \\\"Lehrerkram\\u201c (Buntstifte)\"], [\"Kulturbeutel \\\"Sommer-B\\u00e4rbel\\u201c (gelb)\"], [\"M\\u00e4ppchen \\\"Lehrerkram\\u201c (Buntstifte)\"], [\"M\\u00e4ppchen \\\"Lehrerkram\\\" (Buchstabensalat)\"], [\"M\\u00e4ppchen \\\"Lehrerkram\\u201c (Pusteblume)\"], [\"M\\u00e4ppchen \\\"Lieblingslehrerin\\\"\"], [\"M\\u00e4ppchen \\\"Lehrerkram\\\" (Buchstabensalat)\"], [\"M\\u00e4ppchen \\u201eLehrerkram\\u201c (grau/h.blau gepunktet)\"], [\"M\\u00e4ppchen \\\"Lehrerkram\\u201c (Mathe) grau/farbig\"], [\"M\\u00e4ppchen \\\"richtig viel Chemie\\\"\"], [\"M\\u00e4ppchen \\\"Lehrerkram\\u201c (Buntstifte)\"], [\"M\\u00e4ppchen \\\"Lieblingslehrerin\\\"\"], [\"M\\u00e4ppchen \\u201eLehrerkram\\u201c (grau/rosa Sternchen)\"], [\"Beulentr\\u00f6ster \\\"Zebra\\\"\"], [\"M\\u00e4ppchen \\\"Lehrerkram\\u201c (Mathe) grau/farbig\"], [\"M\\u00e4ppchen \\\"Lieblingslehrerin\\\" (friends)\"], [\"M\\u00e4ppchen \\\"teacher\\u02cbs stuff \\\"\"], [\"M\\u00e4ppchen \\\"teacher\\u02cbs stuff \\\"\"], [\"XL-M\\u00e4ppchen \\\"Homeoffice\\\"\"], [\"Sommer-Decke \\\"Campingbus\\\"\"], [\"M\\u00e4ppchen \\\"Lehrerkram\\u201c (Buntstifte)\"], [\"Sommer-Decke \\\"Gl\\u00fccksb\\u00e4rchen\\\"\"], [\"M\\u00e4ppchen \\\"teacher\\u02cbs stuff \\\"\"], [\"M\\u00e4ppchen \\\"Lehrerkram\\u201c (Mathe) grau/farbig\"], [\"M\\u00e4ppchen \\\"Schreibkram\\\" (B\\u00fcroklammern)\"], [\"M\\u00e4ppchen \\\"Lehrerkram\\\" (Musik)\"], [\"Wickeltasche \\\"Im Wald ist was los\\\" (beige/blau)\"], [\"M\\u00e4ppchen \\\"Lehrerkram\\\" (Buchstabensalat)\"], [\"Schminkt\\u00e4schchen \\\"bunte Sterne\\\"\"], [\"M\\u00e4ppchen \\\"Lehrerkram\\\" (Musikinstrumente)\"], [\"M\\u00e4ppchen \\\"Lehrerkram\\u201c (Chemie)\"], [\"M\\u00e4ppchen \\\"Lehrerkram\\\" (Buchstabensalat)\"], [\"M\\u00e4ppchen \\\"Lehrerkram\\u201c (Mathe) blau\"], [\"M\\u00e4ppchen \\\"Lehrerkram\\u201c ( Bleistifte)\"], [\"M\\u00e4ppchen \\\"Lehrerkram\\u201c (Mathe) grau/farbig\"], [\"M\\u00e4ppchen \\\"Lehrerkram\\u201c (Chemie)\"], [\"M\\u00e4ppchen \\\"Lehrerkram\\u201c (Chemie)\"], [\"M\\u00e4ppchen \\\"Lehrerkram\\\" (Ma\\u00dfband)\"], [\"XL-M\\u00e4ppchen \\\"Homeoffice\\\"\"], [\"M\\u00e4ppchen \\\"Lehrerkram\\\" (Buchstabenw\\u00fcrfel)\"], [\"M\\u00e4ppchen \\\"Lehrerkram\\\" (Buchstabensalat)\"], [\"M\\u00e4ppchen \\\"Schreibkram\\\" (B\\u00fcroklammern)\"], [\"Kuschel-Kissen mit Wunschtext\"], [\"M\\u00e4ppchen \\\"Lehrerkram\\u201c (Mathe) grau/farbig\"], [\"M\\u00e4ppchen \\\"richtig viel Chemie\\\"\"], [\"M\\u00e4ppchen \\\"Lehrerkram\\u201c (Buntstifte)\"], [\"M\\u00e4ppchen \\\"Lehrerkram\\u201c (Mathe) grau/farbig\"], [\"Kuschel-Kissen mit Wunschtext\"], [\"Kulturbeutel \\\"M\\u00e4nnerkram\\\"\"], [\"M\\u00e4ppchen \\\"teacher\\u02cbs stuff \\\"\"], [\"Rezept-B\\u00fcchlein \\\"Lieblingsrezepte\\u201c\"], [\"Wimpelkette aus Stoff (grau)\"], [\"Rezept-B\\u00fcchlein \\\"Immer wieder k\\u00f6stlich\\\"\"], [\"M\\u00e4ppchen \\\"Lehrerkram\\u201c (Chemie-Labor)\"], [\"M\\u00e4ppchen \\\"Schreibkram\\\" (B\\u00fcroklammern)\"], [\"M\\u00e4ppchen \\u201eLehrerkram\\u201c\"], [\"Kuschel-Kissen mit Wunschtext\"], [\"Wimpelkette aus Stoff (8 Wimpel, gelb)\"], [\"Kulturbeutel \\\"Ab ins Bett!\\\" (Strandhaus, blau)\"], [\"M\\u00e4ppchen \\\"Lehrerkram\\u201c (Mathe) blau\"], [\"M\\u00e4ppchen \\\"Lehrerkram\\u201c (Mathe) grau/farbig\"], [\"M\\u00e4ppchen \\\"Lehrerkram\\u201c (Buntstifte)\"], [\"Kissen \\\"Nilpferd\\\" mit Wunsch-Namen\"], [\"M\\u00e4ppchen \\u201eLehrerkram\\u201c (grau/h.blau gepunktet)\"], [\"M\\u00e4ppchen \\\"Lehrerkram\\u201c (Chemie)\"], [\"M\\u00e4ppchen \\\"Lehrerkram\\u201c (Mathe) grau/farbig\"], [\"Wickeltasche \\\"Im Wald ist was los\\\" (beige/blau)\"], [\"XL-M\\u00e4ppchen \\\"Homeoffice\\\"\"], [\"Wimpelkette aus Stoff (grau)\"], [\"M\\u00e4ppchen \\u201eTraummann\\u201c\"], [\"M\\u00e4ppchen \\\"Lehrerkram\\u201c (Mathe) grau/farbig\"], [\"M\\u00e4ppchen \\\"Lieblingslehrerin\\\"\"], [\"M\\u00e4ppchen \\\"Lehrerkram\\u201c (Chemie)\"], [\"kleines Schminkt\\u00e4schchen \\\"Federn\\\"\"], [\"M\\u00e4ppchen \\\"Stifte\\\"\"], [\"M\\u00e4ppchen \\\"Schreibkram\\\" (B\\u00fcroklammern)\"], [\"M\\u00e4ppchen \\\"Lehrerkram\\u201c (Mathe) grau/farbig\"], [\"Lunch-Bag \\\"Kakteen\\\"\"], [\"M\\u00e4ppchen \\\"richtig viel Chemie\\\"\"], [\"M\\u00e4ppchen \\\"Lehrerkram\\u201c (Mathe) grau/farbig\"], [\"M\\u00e4ppchen \\\"Lieblingslehrerin\\\" (friends)\"], [\"M\\u00e4ppchen \\\"richtig viel Chemie\\\"\"], [\"M\\u00e4ppchen \\\"Lehrerkram\\u201c (Buntstifte)\"], [\"Kulturbeutel \\u201eSuperheld\\u201c grau\"], [\"M\\u00e4ppchen \\\"Lehrerkram\\u201c (Mathe) grau/farbig\"], [\"Tagebuch \\\"Bulli\\\" (Eastwind)\"], [\"M\\u00e4ppchen \\\"Lehrerkram\\u201c (Buntstifte)\"], [\"M\\u00e4ppchen \\\"Lehrerkram\\\" (Musik)\"], [\"M\\u00e4ppchen \\\"richtig viel Chemie\\\"\"], [\"M\\u00e4ppchen \\\"Lehrerkram\\u201c (Chemie-Tafel)\"], [\"Baby-Krabbel-Decke \\\"Baby-Elefant\\u201c (senf)\"], [\"M\\u00e4ppchen \\\"Lehrerkram\\u201c (Chemie-Labor)\"], [\"M\\u00e4ppchen \\\"Stifte\\\"\"], [\"M\\u00e4ppchen \\u201eLehrerkram\\u201c (grau/rosa Sternchen)\"], [\"M\\u00e4ppchen \\\"Lehrerkram\\u201c (Chemie-Tafel)\"], [\"M\\u00e4ppchen \\\"richtig viel Chemie\\\"\"], [\"M\\u00e4ppchen \\\"Schreibkram\\\" (B\\u00fcroklammern)\"], [\"M\\u00e4ppchen \\\"Schreibkram\\\" (B\\u00fcroklammern)\"], [\"M\\u00e4ppchen \\\"Lehrerkram\\\" (Buchstabensalat)\"], [\"M\\u00e4ppchen \\\"Lehrerkram\\u201c (Buntstifte)\"], [\"Kulturbeutel \\u201eM\\u00e4nnersache\\u201c\"], [\"M\\u00e4ppchen \\u201eLehrerkram\\u201c\"], [\"M\\u00e4ppchen \\\"Lehrerkram\\u201c (Chemie-Labor)\"], [\"M\\u00e4ppchen \\\"Lehrerkram\\u201c (Buntstifte)\"], [\"M\\u00e4ppchen \\\"Lehrerkram\\u201c (Mathe) grau/farbig\"], [\"Kulturbeutel \\\"Ab ins Bett!\\\" (gr\\u00fcn)\"], [\"kleines Glitzer-M\\u00e4ppchen\"], [\"M\\u00e4ppchen \\u201eLehrerkram\\u201c (grau/rosa Sternchen)\"], [\"M\\u00e4ppchen \\\"Lehrerkram\\u201c (Mathe) grau/farbig\"], [\"M\\u00e4ppchen \\\"Lehrerkram\\\" (Buchstabensalat)\"], [\"M\\u00e4ppchen \\\"teacher\\u02cbs stuff \\\"\"], [\"M\\u00e4ppchen \\\"Lehrerkram\\u201c (Buntstifte)\"], [\"M\\u00e4ppchen \\\"Lehrerkram\\u201c (Chemie)\"], [\"M\\u00e4ppchen \\\"Lehrerkram\\\" (Ma\\u00dfband)\"], [\"M\\u00e4ppchen \\\"Lehrerkram\\\" (Buchstabensalat)\"], [\"M\\u00e4ppchen \\\"Lehrerkram\\u201c (Mathe) blau\"], [\"M\\u00e4ppchen \\u201eLehrerkram\\u201c (grau/rosa Sternchen)\"], [\"M\\u00e4ppchen \\\"Lehrerkram\\\" (Musik)\"], [\"M\\u00e4ppchen \\\"Lehrerkram\\\" (Buchstabensalat)\"], [\"M\\u00e4ppchen \\\"Lehrerkram\\\" (grau*rosa*Sterne)\"], [\"M\\u00e4ppchen \\\"Lehrerkram\\u201c (Chemie-Labor)\"], [\"M\\u00e4ppchen \\\"Lehrerkram\\\" (grau*rosa*Sterne)\"], [\"Kulturbeutel \\\"M\\u00e4nnerkram\\\"\"], [\"M\\u00e4ppchen \\\"Lehrerkram\\\" (Ma\\u00dfband)\"]], \"hoverlabel\": {\"namelength\": 0}, \"hovertemplate\": \"<b>%{hovertext}</b><br><br>Titel=%{customdata[0]}<br>lat=%{lat}<br>lon=%{lon}<br>Monat=%{marker.color}\", \"hovertext\": [\"Straubing\", \"Donaueschingen\", \"S\\u00f6mmerda\", \"H\\u00fcllhorst\", \"M\\u00f6nchengladbach\", \"Obernfeld\", \"Heppenheim\", \"Potsdam\", \"Potsdam\", \"M\\u00fcnchen\", \"Syke\", \"Bad Neuenahr-Ahrweiler\", \"Wachtum\", \"M\\u00fcnchen\", \"Arnstadt\", \"Berlin\", \"Berlin\", \"Altena\", \"Augsburg\", \"Pocking\", \"Surberg\", \"Erzhausen\", \"R\\u00f6srath\", \"FREIBURG\", \"H\\u00f6chheim\", \"Altena\", \"Augsburg\", \"Augsburg\", \"Augsburg\", \"Penig\", \"Eilsleben\", \"Wuppertal\", \"Dorsten\", \"L\\u00dcBBECKE\", \"K\\u00f6ln \", \"Lauf a.d.Pegnitz\", \"Wachtberg\", \"Herten\", \"Gelsenkirchen\", \"Haueneberstein\", \"Berlin\", \"Wuppertal\", \"Eilsleben\", \"Landau\", \"Alzey\", \"Garching\", \"Marktoberdorf\", \"Bassum\", \"Essen\", \"W\\u00fcrzburg\", \"Fellbach\", \"Aulendorf\", \"Taucha\", \"Maintal\", \"Maintal\", \"Aachen\", \"W\\u00fcrzburg\", \"Gie\\u00dfen\", \"Greimerath\", \"Gro\\u00dfhansdorf\", \"Kallstadt\", \"Niedersch\\u00f6nenfeld\", \"Meerbusch\", \"Berlin\", \"Berlin\", \"Koblenz\", \"Koblenz\", \"Hohen-S\\u00fclzen\", \"Wetter\", \"B\\u00fcrstadt\", \"Wedemark\", \"M\\u00fcnchen\", \"WISMAR\", \"Niedersch\\u00f6nenfeld\", \"Krefeld\", \"Krefeld\", \"Vechelde\", \"Winnenden\", \"Uelversheim\", \"Gaggenau\", \"Marl\", \"B\\u00f6neb\\u00fcttel\", \"Schwabm\\u00fcnchen\", \"Gommern\", \"H\\u00f6xter\", \"Herbolzheim\", \"Bad S\\u00e4ckingen\", \"M\\u00fcnster\", \"M\\u00dcNCHEN\", \"Hardt\", \"Aachen\", \"Babenhausen\", \"Weil am Rhein\", \"Rheinfelden\", \"Ingolstadt\", \"Hamburg\", \"Hamburg\", \"Ebensfeld\", \"Birkenfeld\", \"Brandenburg\", \"Staig\", \"Ottensoos\", \"G\\u00fcnzburg\", \"Stuttgart\", \"Stuttgart\", \"Engstingen\", \"Lenzkirch-Kappel\", \"Hof\", \"Leipzig\", \"Meckenbeuren\", \"Moosburg\", \"Moosburg\", \"Korb\", \"Korb\", \"Untersulmetingen\", \"Leinfelden\", \"Rottenburg\", \"Rottenburg\", \"Bad Bocklet\", \"B\\u00fcnde\", \"Graben\", \"Graben\", \"Lappersdorf \", \"Dresden\", \"Leipzig\", \"Norderstedt\", \"Mannheim\", \"Waldkraiburg\", \"Hannover\", \"M\\u00fcnchen\", \"K\\u00f6ln\", \"Leipzig\", \"Leipzig\", \"Walsrode\", \"Eislingen\", \"Langenfeld\", \"Hirschaid\", \"Amberg\", \"Amberg\", \"Berlin\", \"Kippenheim\", \"hattenhofen\", \"Steinen\", \"Titisee-Neustadt\", \"Grasbrunn\", \"St. Ingbert\", \"Weida\", \"Altenkunstadt\", \"Neunburg v.Wald\", \"Neunburg v.Wald\", \"Neunburg v.Wald\", \"W\\u00fcrselen\", \"Partenstein\", \"Oyten\", \"Oyten\", \"Oyten\", \"Oberdachstetten\", \"Oberdachstetten\", \"Oberdachstetten\", \"Gifhorn\", \"Blankenburg\", \"TIRSCHENREUTH\", \"Oberhausen\", \"Kehl\", \"Herzberg am harz\", \"Leipzig\", \"Bad Kissingen\", \"Rayerschied\", \"Bad Bentheim\", \"Egling\", \"Egling\", \"Altoetting\", \"Ingelheim\", \"Wolfsburg\", \"Rottendorf\", \"Geringswalde\", \"Eckernf\\u00f6rde\", \"Mittenwald\", \"Altenberge\", \"Walld\\u00fcrn\", \"Ottensoos\", \"Kassel\", \"Dinklage\", \"Dinklage\", \"Geisenfeld\", \"Filchnerstr.\", \"M\\u00dcNSTER\", \"Hamburg\", \"Lauschgr\\u00fcn\", \"Langenhagen\", \"Langenhagen\", \"Pirna\", \"Gross Gerau\", \"Lauterbach\", \"Bayern - Regensburg\", \"Bayern - Regensburg\", \"Ingolstadt\", \"Oranienburg\", \"Essen\", \"Essen\", \"Adelsheim\", \"Lehmkuhlen\", \"M\\u00fcnchen\", \"Angelburg\", \"Alfter\", \"Simbach am Inn\", \"Simbach am Inn\", \"Simbach am Inn\", \"Simbach am Inn\", \"Simbach am Inn\", \"Simbach am Inn\", \"Bremen\", \"Egloffstein\", \"H\\u00fcckeswagen\", \"Hamburg\", \"waltershausen\", \"Br\\u00fchl\", \"Kassel Wolfsanger\", \"D\\u00fcren\", \"Kusterdingen\", \"Stuttgart\", \"Stuttgart\", \"Weinstadt\", \"Empfingen\", \"Seisla\", \"K\\u00f6ln\", \"Ludwigsfelde\", \"Meckenheim\", \"Neum\\u00fcnster\", \"Neum\\u00fcnster\", \"Kiel\", \"Siegburg\", \"D\\u00fcsseldorf\", \"Beelitz\", \"Erpel\", \"Korschenbroich\", \"Braunschweig\", \"Gladbeck\", \"Leipzig\", \"K\\u00f6ln\", \"Ketsch\", \"Heroldsberg\", \"Berlin\", \"Remseck\", \"Remseck\", \"Marburg\", \"Lingen\", \"Berlin\", \"Neuss\", \"M\\u00fcnchen\", \"M\\u00fcnchen\", \"Esslingen Am Neckar\", \"Weddingstedt\", \"Weddingstedt\", \"Neuburg\", \"Gro\\u00dfwallstadt\", \"G\\u00f6rlitz\", \"Leipzig\", \"Frirdrichsthal\", \"Neuburg\", \"Neuburg\", \"Neuburg\", \"Neuburg\", \"Hamburg\", \"Wewelsfleth\", \"Passau\", \"Wittmund\", \"Klein Vielen\", \"F\\u00fcssen\", \"Neukirchen\", \"Merzenich\", \"Bad Schussenried\", \"Rastede\", \"Bad Schussenried\", \"Griesheim\", \"D\\u00fcsseldorf\", \"Tengen\", \"Dormagen\", \"K\\u00f6ln\", \"Laufenburg\", \"Hohenaspe\", \"Attendorn\", \"M\\u00f6hnesee\", \"Rostock\", \"Gehrden\", \"Wittlich\", \"Ockenheim\", \"Berlin\", \"Kerpen\", \"N\\u00f6rvenich\", \"Firenze\", \"Seevetal\", \"Herxheim\", \"Riedstadt\", \"Konstanz\", \"V\\u00f6hringen\", \"Stadtbergen\", \"Bodenheim\", \"Oldenburg\", \"Hachenburg\", \"Hachenburg\", \"SOLINGEN\", \"K\\u00e4mpfelbach\", \"K\\u00e4mpfelbach\", \"Meerbusch\", \"Pegnitz\", \"Halle (Saale)\", \"Ro\\u00dfdorf\", \"Bocholt\", \"Mellrichstadt\", \"Deidesheim\", \"Teugn\", \"Baunatal\", \"Hagenbach\", \"ESSEN\", \"Eching\", \"Eching\", \"Berlin\", \"Duisburg\", \"Viersen\", \"Wegberg\", \"Emmendingen\", \"Duisburg\", \"Emmerich am Rhein\", \"Karlsfeld\", \"Ronnenberg\", \"HALTERN AM SEE/SYTHEN\", \"HALTERN AM SEE/SYTHEN\", \"Witten\", \"Wetzlar\", \"Wetzlar\", \"Osterhofen\", \"Erbshausen\", \"Pirna\", \"Dresden\", \"Dresden\", \"Bocholt\", \"Rodalben\", \"Lingen\", \"Rostock\", \"Neu-Ulm\", \"Lauterbach (Hessen)\", \"Eisenach\", \"Lich\", \"Brandenburg\"], \"lat\": [48.880035449999994, 47.956004300000004, 51.159890700000005, 52.25081515, 51.1467116, 51.5600196, 49.63198605, 52.3833978, 52.3833978, 48.0860621, 52.9062085, 50.546702, 52.7898285, 48.1494327, 50.8317993, 52.4958675, 52.4958675, 51.2904109, 48.2963095, 48.3947362, 47.8674675, 49.9534288, 50.8900593, null, 50.3663375, 51.2904109, null, null, null, 50.9302729, 52.1472348, 51.2611866, 51.65328135, 52.3034719, 50.938729949999995, 49.5192678, 50.624613100000005, 51.5908407, 51.5796785, 48.8087541, 52.4203881, 51.22987775, 52.1472348, 49.193795550000004, 49.7428672, 48.139236499999996, 47.76748675, 52.8248042, 51.44864835, 49.799004249999996, 48.845122, 47.9540393, 51.376601, 50.15429825, 50.15429825, 50.7709458, 49.8256703, 50.59974045, 49.5624819, 53.6518243, 49.4923436, 48.7192732, 51.31345495, 52.5241683, 52.5241683, 50.34690405, 50.34690405, 49.6195354, null, 49.6422727, 52.525989550000006, 48.1056086, 53.8956133, 48.7192732, 51.2927591, 51.2927591, 52.25682135, 48.86488325, 49.8086992, 48.8081398, 51.6578764, 54.075987, 48.1890205, 52.0731376, 51.7714032, 48.21908175, 47.556134799999995, 51.9698147, 48.1746465, 50.6339381, 50.76009415, 48.139678, 47.6075483, 47.5503512, 48.759609, 53.61019855, 53.61019855, 50.06502625, 48.8741154, 52.38844105, 48.2979479, 49.5067934, 48.4604182, 48.76175855, 48.76175855, 48.382089949999994, 47.8686319, 50.32431095, 51.378057, 47.6826538, 48.4729878, 48.4729878, 48.8391412, 48.8391412, 48.22554115, 48.695534949999995, null, null, 50.2857918, 52.2198061, 48.18933095, 48.18933095, 49.044816749999995, 51.017348999999996, 51.3823103, 53.6944478, 49.477030150000004, 48.198976, 52.3333846, 48.1963334, 50.9617815, 51.3678197, 51.3678197, 52.897635, 48.698914450000004, 51.10940035, 49.8137883, 49.429601500000004, 49.429601500000004, 52.4205636, 48.2899525, 48.6694935, 47.6483311, 47.9194142, 48.0937274, 49.275879, 50.7532993, 50.1315526, null, null, null, 50.8421776, 50.0421002, 53.07297695, 53.07297695, 53.07297695, 49.419184, 49.419184, 49.419184, 52.47246605, 51.8035089, 49.8839565, 51.4748893, 48.629628, 51.6598246, 51.345208650000004, 50.2087932, 50.0182679, 52.295859199999995, 48.1888917, 48.1888917, 48.2203237, 49.96130505, 52.4230323, 49.7890281, 51.0540426, 54.45592025, 47.4442334, 52.0522086, 49.5906183, 49.510361, 51.29249025, 52.6530766, 52.6530766, 48.68275725, null, 51.9226885, 53.64062495, 50.5979442, 52.4454793, 52.4454793, 50.958628649999994, 49.88143975, 50.6237144, 49.0152921, 49.0152921, 48.7385371, 52.805224, 51.43206635, 51.43206635, 49.378537449999996, 54.2210234, 48.1191361, 50.8093677, 50.749457899999996, 48.2669921, 48.2669921, 48.2669921, 48.2669921, 48.2669921, 48.2669921, 53.17227215, 49.7021849, 51.1536292, 53.64062495, 50.8982561, 50.815791649999994, 51.333769, 50.8134458, 48.5212012, 48.7640269, 48.7640269, 48.8083407, 48.3951461, 50.653782750000005, 50.9355472, 52.3207524, 49.4056163, null, null, 54.3158841, 50.80144895, 51.28211295, 52.2482476, 50.58806025, 51.1879988, 52.25891135, 51.58880475, 51.3678639, 50.8395485, 49.36048735, 49.5249103, 52.44632395, 48.89916575, 48.89916575, 50.7965495, 52.5371594, 52.5258207, 51.208077700000004, 48.1543625, 48.1543625, 48.726054950000005, 54.2386022, 54.2386022, 53.409019, 49.8841465, 51.1599459, 51.34043, null, 53.409019, 53.409019, 53.409019, 53.409019, 53.66865815, 53.8487761, 48.5768906, 53.5836448, 53.4516346, 47.57356715, 48.7078776, 50.836889150000005, 48.0037166, 53.25473445, 48.0037166, 49.8588999, 51.22935285, 47.8351934, 51.1123646, 50.9742378, 47.56659, 53.9889274, 51.1218245, 51.5164299, 54.0820517, 52.3035255, 49.9987635, 49.9398836, 52.548088, 50.868835000000004, 50.801228449999996, null, 53.4032792, 49.148335849999995, 49.809849799999995, 47.66496565, 48.3360333, 48.3806799, 49.93175505, 53.19570605, 50.6532474, 50.6532474, 51.1636199, 48.9499683, 48.9499683, 51.3059235, 49.793491599999996, 51.4782457, 49.8601322, 51.8453559, 50.4268412, 49.40526645, 48.8964693, 51.2635496, 49.0263581, 51.4160138, 48.49876, 48.49876, 52.5241341, 51.4034869, 51.2629974, 51.146024249999996, 48.105001900000005, 51.4679707, 51.82711625, 48.2295663, 52.3361828, 51.77387265, 51.77387265, 51.44698855, 50.55959, 50.55959, 48.6873541, 49.91018015, null, 51.017856, 51.017856, 51.85946835, 49.2426753, 52.5371594, 54.0747718, 48.3982992, 50.6237144, 50.96963, 50.5231505, 52.41683125], \"legendgroup\": \"\", \"lon\": [12.602290773799227, 8.48265929875598, 11.129797879457374, 8.659212210442709, 6.4387446, 10.2351306, 8.62814364660142, 13.014688, 13.014688, 11.515147047761914, 8.8332445, 7.1221276, 7.7211909662983995, 11.6145208, 10.9589923, 13.1812941, 13.1812941, 7.717468503559872, 10.8918291, 13.301998505552337, 12.7056565, 8.6315221, 7.1802783, null, 10.465151397448231, 7.717468503559872, null, null, null, 12.7086005, 11.2054503, 7.07722965, 6.952132849378729, 8.6150748, 6.97647263552572, 11.2727511, 7.127920909623254, 7.1368789, 7.048400688196635, 8.216203799412865, 13.4414571, 7.19760979772361, 11.2054503, 8.11133122558366, 8.1123055, 12.609754135917896, 10.610466049999992, 8.75894544793291, 7.01855945, 9.911978468710691, 9.269700898970253, 9.6368721, 12.4896357, 8.803727324365415, 8.803727324365415, 6.0845277, 9.9226638, 8.748611123820915, 6.6810555, 10.280653129541944, 8.1808824, 10.930205, 6.716203452907177, 13.3311891, 13.3311891, 7.590799457554816, 7.590799457554816, 8.225723, null, 8.4639578, 9.761985499999998, 11.5647171, 11.462792178295885, 10.930205, 6.5202352, 6.5202352, 10.326405083849668, 9.430277304596434, 8.2865696, 8.3670564, 7.078164285369775, 10.041128, 10.7606598, 11.8229497, 9.3719778, 7.774346097106198, 7.942529236911069, 7.614068541748024, 11.5752682, 7.9195635, 6.0654459463827, 10.2613938, 7.6190346, 7.7400283, 11.443981402585958, 9.909122502831568, 9.909122502831568, 10.900802597816897, 8.640226134177215, 12.59200932666122, 9.999919183505178, 11.3362856, 10.3139398, 9.159366599999998, 9.159366599999998, 9.283359968033846, 8.23811498225594, 11.934812124393606, 12.2981366, 9.5604375, 11.9306662, 11.9306662, 9.3603435, 9.3603435, 9.825024898154167, 9.115438601122829, null, null, 10.0962513, 8.5812161, 10.829929733486438, 10.829929733486438, 12.09091905067352, 13.84456317599293, 12.2822361, 10.0338399, 8.482338952860516, 12.3984242, 9.6950348, 11.5834042, 6.946223400579338, 12.3632345, 12.3632345, 9.5906692, 9.708686340542325, 6.947507762408097, 10.9771077, 11.852276474975914, 11.852276474975914, 13.340201742307691, 7.8300453, 9.573546716001662, 7.7377382, 8.2118536, 11.7673967, 7.1246082, 12.0521615, 11.247556, null, null, null, 6.1279798, 9.5250853, 9.014706022023297, 9.014706022023297, 9.014706022023297, 10.4190059, 10.4190059, 10.4190059, 10.563642349999999, 10.9504338, 12.3300903, 6.859112197103311, 7.856556027402091, 10.3492328, 12.358827238333598, 10.077810694604281, 7.5825627, 7.129299300618327, 10.9789071, 10.9789071, 12.671654, 8.057957154505647, 10.7971135, 10.0194223, 12.894765850000008, 9.83067005284252, 11.2681303, 7.4711077, 9.368669750000002, 11.3482984, 9.41115705, 8.1133291, 8.1133291, 11.607606060524795, null, 7.6787394, 9.968286110853576, 12.267853382403608, 9.6704765, 9.6704765, 13.932323324089065, 8.48613582653752, 9.398281799999998, 12.1191397, 12.1191397, 11.4131882, 13.2665563, 7.106544131633434, 7.106544131633434, 9.390040636966992, 10.3789708, 11.5437727, 8.4405837, 7.022921647807186, 13.016131, 13.016131, 13.016131, 13.016131, 13.016131, 13.016131, 8.697589673797173, 11.2598775, 7.348712700000002, 9.968286110853576, 10.555415, 6.898783000000002, 9.5370757, 6.4958582, 9.1202998, 9.1718192, 9.1718192, 9.39322435, 8.710029149310962, 11.548704249808573, 6.976879994291339, 13.2320892, 8.2354773, null, null, 10.1160696, 7.251545762651698, 6.799791001329144, 12.9697145, 7.240109593098319, 6.504256247543381, 10.504886028781819, 6.95908569050798, 12.368469254150938, 7.0675264127844795, 8.533425327980037, 11.1470175, 13.25713231165493, 9.293890874266097, 9.293890874266097, 8.773698300000003, 7.3279598, 13.449911, 6.6535858611976355, 11.5744294, 11.5744294, 9.36137790320748, 9.0871733, 9.0871733, 11.92051709556836, 9.152409, 14.990082341114839, 12.3265032, null, 11.92051709556836, 11.92051709556836, 11.92051709556836, 11.92051709556836, 10.144774997203099, 9.4026619, 13.4404715, 7.7665276, 13.0384499, 10.709017425096011, 13.3586347, 6.580986168495272, 9.6642014, 8.198009141417966, 9.6642014, 8.562092700000001, 6.8397558240790906, 8.701450807909215, 6.761016, 7.058665700000001, 8.058770099751861, 9.522781559210614, 7.9125696047109155, 8.136596681821088, 12.1405731, 9.60509455, 6.9339308, 7.9689646, 13.4172445, 6.6803006628787855, 6.636356755250928, null, 9.9890432, 8.209191350000001, 8.508192354260908, 9.165912263349053, 8.669109893318101, 10.8405447, 8.311678, 8.198801557781517, 7.825947, 7.825947, 7.009686140707357, 8.6278037, 8.6278037, 6.692066672450053, 11.515511381067963, 11.9020113501989, 8.7620688, 6.597185378763142, 10.302257640616492, 8.194947128208963, 12.0105465, 9.3968779, 8.2512409, 6.95263585, 12.0352518, 12.0352518, 13.5900105, 6.665562445569613, 6.3447914, 6.281823699999999, 7.856435564458687, 6.753686878040763, 6.326043408707982, 11.4807268, 9.6611053, 7.226667159175105, 7.226667159175105, 7.34845945, 8.5997816, 8.5997816, 13.023481156836754, 10.016499800000002, null, 13.7705818, 13.7705818, 6.624074849145316, 7.6406231, 7.3279598, 12.1112415, 10.0050826, 9.398281799999998, 10.3194599, 8.8158474, 12.538629625], \"marker\": {\"color\": [10, 10, 10, 10, 10, 9, 9, 9, 9, 9, 9, 9, 9, 9, 9, 9, 9, 9, 9, 9, 9, 9, 9, 9, 9, 9, 9, 9, 9, 9, 9, 9, 9, 9, 9, 9, 9, 9, 9, 9, 9, 9, 9, 9, 9, 9, 9, 9, 9, 9, 9, 9, 9, 9, 9, 8, 8, 8, 8, 8, 8, 8, 8, 8, 8, 8, 8, 8, 8, 8, 8, 8, 8, 8, 8, 8, 7, 7, 7, 7, 7, 7, 7, 7, 7, 7, 7, 7, 7, 7, 7, 7, 7, 7, 7, 7, 7, 7, 7, 7, 7, 7, 7, 7, 7, 7, 7, 7, 7, 7, 7, 7, 7, 7, 7, 7, 7, 7, 7, 7, 7, 7, 7, 7, 7, 7, 7, 7, 7, 7, 7, 7, 7, 7, 7, 7, 7, 7, 7, 7, 7, 7, 7, 7, 7, 7, 7, 6, 6, 6, 6, 6, 6, 6, 6, 6, 6, 6, 6, 6, 6, 6, 6, 6, 6, 6, 6, 6, 6, 6, 6, 6, 6, 6, 6, 6, 6, 6, 6, 6, 6, 6, 6, 6, 6, 6, 6, 6, 6, 6, 6, 6, 6, 6, 6, 6, 6, 6, 6, 6, 6, 6, 6, 6, 6, 6, 6, 6, 6, 6, 6, 6, 6, 6, 6, 6, 6, 6, 6, 6, 6, 6, 6, 6, 6, 6, 6, 6, 6, 6, 6, 6, 6, 6, 6, 6, 6, 6, 6, 6, 6, 5, 5, 5, 5, 5, 5, 5, 5, 5, 5, 5, 5, 5, 5, 5, 5, 5, 5, 5, 5, 5, 5, 5, 5, 5, 5, 5, 5, 5, 5, 5, 5, 5, 5, 5, 5, 5, 5, 5, 4, 4, 4, 4, 4, 4, 4, 4, 4, 4, 4, 4, 4, 4, 4, 3, 3, 3, 3, 3, 3, 3, 3, 3, 3, 3, 3, 3, 2, 2, 2, 2, 2, 2, 2, 2, 2, 2, 2, 2, 2, 2, 2, 2, 2, 1, 1, 1, 1, 1, 1, 1, 1, 1, 1, 1, 1, 1, 1, 1, 1, 1, 1, 1, 1], \"coloraxis\": \"coloraxis\"}, \"mode\": \"markers\", \"name\": \"\", \"showlegend\": false, \"subplot\": \"mapbox\", \"type\": \"scattermapbox\"}],\n",
              "                        {\"coloraxis\": {\"colorbar\": {\"title\": {\"text\": \"Monat\"}}, \"colorscale\": [[0.0, \"#0d0887\"], [0.1111111111111111, \"#46039f\"], [0.2222222222222222, \"#7201a8\"], [0.3333333333333333, \"#9c179e\"], [0.4444444444444444, \"#bd3786\"], [0.5555555555555556, \"#d8576b\"], [0.6666666666666666, \"#ed7953\"], [0.7777777777777778, \"#fb9f3a\"], [0.8888888888888888, \"#fdca26\"], [1.0, \"#f0f921\"]]}, \"height\": 600, \"legend\": {\"tracegroupgap\": 0}, \"mapbox\": {\"center\": {\"lat\": 50.5136881138298, \"lon\": 9.695530989593525}, \"domain\": {\"x\": [0.0, 1.0], \"y\": [0.0, 1.0]}, \"style\": \"open-street-map\", \"zoom\": 4}, \"margin\": {\"b\": 0, \"l\": 0, \"r\": 0, \"t\": 0}, \"template\": {\"data\": {\"bar\": [{\"error_x\": {\"color\": \"#2a3f5f\"}, \"error_y\": {\"color\": \"#2a3f5f\"}, \"marker\": {\"line\": {\"color\": \"#E5ECF6\", \"width\": 0.5}}, \"type\": \"bar\"}], \"barpolar\": [{\"marker\": {\"line\": {\"color\": \"#E5ECF6\", \"width\": 0.5}}, \"type\": \"barpolar\"}], \"carpet\": [{\"aaxis\": {\"endlinecolor\": \"#2a3f5f\", \"gridcolor\": \"white\", \"linecolor\": \"white\", \"minorgridcolor\": \"white\", \"startlinecolor\": \"#2a3f5f\"}, \"baxis\": {\"endlinecolor\": \"#2a3f5f\", \"gridcolor\": \"white\", \"linecolor\": \"white\", \"minorgridcolor\": \"white\", \"startlinecolor\": \"#2a3f5f\"}, \"type\": \"carpet\"}], \"choropleth\": [{\"colorbar\": {\"outlinewidth\": 0, \"ticks\": \"\"}, \"type\": \"choropleth\"}], \"contour\": [{\"colorbar\": {\"outlinewidth\": 0, \"ticks\": \"\"}, \"colorscale\": [[0.0, \"#0d0887\"], [0.1111111111111111, \"#46039f\"], [0.2222222222222222, \"#7201a8\"], [0.3333333333333333, \"#9c179e\"], [0.4444444444444444, \"#bd3786\"], [0.5555555555555556, \"#d8576b\"], [0.6666666666666666, \"#ed7953\"], [0.7777777777777778, \"#fb9f3a\"], [0.8888888888888888, \"#fdca26\"], [1.0, \"#f0f921\"]], \"type\": \"contour\"}], \"contourcarpet\": [{\"colorbar\": {\"outlinewidth\": 0, \"ticks\": \"\"}, \"type\": \"contourcarpet\"}], \"heatmap\": [{\"colorbar\": {\"outlinewidth\": 0, \"ticks\": \"\"}, \"colorscale\": [[0.0, \"#0d0887\"], [0.1111111111111111, \"#46039f\"], [0.2222222222222222, \"#7201a8\"], [0.3333333333333333, \"#9c179e\"], [0.4444444444444444, \"#bd3786\"], [0.5555555555555556, \"#d8576b\"], [0.6666666666666666, \"#ed7953\"], [0.7777777777777778, \"#fb9f3a\"], [0.8888888888888888, \"#fdca26\"], [1.0, \"#f0f921\"]], \"type\": \"heatmap\"}], \"heatmapgl\": [{\"colorbar\": {\"outlinewidth\": 0, \"ticks\": \"\"}, \"colorscale\": [[0.0, \"#0d0887\"], [0.1111111111111111, \"#46039f\"], [0.2222222222222222, \"#7201a8\"], [0.3333333333333333, \"#9c179e\"], [0.4444444444444444, \"#bd3786\"], [0.5555555555555556, \"#d8576b\"], [0.6666666666666666, \"#ed7953\"], [0.7777777777777778, \"#fb9f3a\"], [0.8888888888888888, \"#fdca26\"], [1.0, \"#f0f921\"]], \"type\": \"heatmapgl\"}], \"histogram\": [{\"marker\": {\"colorbar\": {\"outlinewidth\": 0, \"ticks\": \"\"}}, \"type\": \"histogram\"}], \"histogram2d\": [{\"colorbar\": {\"outlinewidth\": 0, \"ticks\": \"\"}, \"colorscale\": [[0.0, \"#0d0887\"], [0.1111111111111111, \"#46039f\"], [0.2222222222222222, \"#7201a8\"], [0.3333333333333333, \"#9c179e\"], [0.4444444444444444, \"#bd3786\"], [0.5555555555555556, \"#d8576b\"], [0.6666666666666666, \"#ed7953\"], [0.7777777777777778, \"#fb9f3a\"], [0.8888888888888888, \"#fdca26\"], [1.0, \"#f0f921\"]], \"type\": \"histogram2d\"}], \"histogram2dcontour\": [{\"colorbar\": {\"outlinewidth\": 0, \"ticks\": \"\"}, \"colorscale\": [[0.0, \"#0d0887\"], [0.1111111111111111, \"#46039f\"], [0.2222222222222222, \"#7201a8\"], [0.3333333333333333, \"#9c179e\"], [0.4444444444444444, \"#bd3786\"], [0.5555555555555556, \"#d8576b\"], [0.6666666666666666, \"#ed7953\"], [0.7777777777777778, \"#fb9f3a\"], [0.8888888888888888, \"#fdca26\"], [1.0, \"#f0f921\"]], \"type\": \"histogram2dcontour\"}], \"mesh3d\": [{\"colorbar\": {\"outlinewidth\": 0, \"ticks\": \"\"}, \"type\": \"mesh3d\"}], \"parcoords\": [{\"line\": {\"colorbar\": {\"outlinewidth\": 0, \"ticks\": \"\"}}, \"type\": \"parcoords\"}], \"pie\": [{\"automargin\": true, \"type\": \"pie\"}], \"scatter\": [{\"marker\": {\"colorbar\": {\"outlinewidth\": 0, \"ticks\": \"\"}}, \"type\": \"scatter\"}], \"scatter3d\": [{\"line\": {\"colorbar\": {\"outlinewidth\": 0, \"ticks\": \"\"}}, \"marker\": {\"colorbar\": {\"outlinewidth\": 0, \"ticks\": \"\"}}, \"type\": \"scatter3d\"}], \"scattercarpet\": [{\"marker\": {\"colorbar\": {\"outlinewidth\": 0, \"ticks\": \"\"}}, \"type\": \"scattercarpet\"}], \"scattergeo\": [{\"marker\": {\"colorbar\": {\"outlinewidth\": 0, \"ticks\": \"\"}}, \"type\": \"scattergeo\"}], \"scattergl\": [{\"marker\": {\"colorbar\": {\"outlinewidth\": 0, \"ticks\": \"\"}}, \"type\": \"scattergl\"}], \"scattermapbox\": [{\"marker\": {\"colorbar\": {\"outlinewidth\": 0, \"ticks\": \"\"}}, \"type\": \"scattermapbox\"}], \"scatterpolar\": [{\"marker\": {\"colorbar\": {\"outlinewidth\": 0, \"ticks\": \"\"}}, \"type\": \"scatterpolar\"}], \"scatterpolargl\": [{\"marker\": {\"colorbar\": {\"outlinewidth\": 0, \"ticks\": \"\"}}, \"type\": \"scatterpolargl\"}], \"scatterternary\": [{\"marker\": {\"colorbar\": {\"outlinewidth\": 0, \"ticks\": \"\"}}, \"type\": \"scatterternary\"}], \"surface\": [{\"colorbar\": {\"outlinewidth\": 0, \"ticks\": \"\"}, \"colorscale\": [[0.0, \"#0d0887\"], [0.1111111111111111, \"#46039f\"], [0.2222222222222222, \"#7201a8\"], [0.3333333333333333, \"#9c179e\"], [0.4444444444444444, \"#bd3786\"], [0.5555555555555556, \"#d8576b\"], [0.6666666666666666, \"#ed7953\"], [0.7777777777777778, \"#fb9f3a\"], [0.8888888888888888, \"#fdca26\"], [1.0, \"#f0f921\"]], \"type\": \"surface\"}], \"table\": [{\"cells\": {\"fill\": {\"color\": \"#EBF0F8\"}, \"line\": {\"color\": \"white\"}}, \"header\": {\"fill\": {\"color\": \"#C8D4E3\"}, \"line\": {\"color\": \"white\"}}, \"type\": \"table\"}]}, \"layout\": {\"annotationdefaults\": {\"arrowcolor\": \"#2a3f5f\", \"arrowhead\": 0, \"arrowwidth\": 1}, \"coloraxis\": {\"colorbar\": {\"outlinewidth\": 0, \"ticks\": \"\"}}, \"colorscale\": {\"diverging\": [[0, \"#8e0152\"], [0.1, \"#c51b7d\"], [0.2, \"#de77ae\"], [0.3, \"#f1b6da\"], [0.4, \"#fde0ef\"], [0.5, \"#f7f7f7\"], [0.6, \"#e6f5d0\"], [0.7, \"#b8e186\"], [0.8, \"#7fbc41\"], [0.9, \"#4d9221\"], [1, \"#276419\"]], \"sequential\": [[0.0, \"#0d0887\"], [0.1111111111111111, \"#46039f\"], [0.2222222222222222, \"#7201a8\"], [0.3333333333333333, \"#9c179e\"], [0.4444444444444444, \"#bd3786\"], [0.5555555555555556, \"#d8576b\"], [0.6666666666666666, \"#ed7953\"], [0.7777777777777778, \"#fb9f3a\"], [0.8888888888888888, \"#fdca26\"], [1.0, \"#f0f921\"]], \"sequentialminus\": [[0.0, \"#0d0887\"], [0.1111111111111111, \"#46039f\"], [0.2222222222222222, \"#7201a8\"], [0.3333333333333333, \"#9c179e\"], [0.4444444444444444, \"#bd3786\"], [0.5555555555555556, \"#d8576b\"], [0.6666666666666666, \"#ed7953\"], [0.7777777777777778, \"#fb9f3a\"], [0.8888888888888888, \"#fdca26\"], [1.0, \"#f0f921\"]]}, \"colorway\": [\"#636efa\", \"#EF553B\", \"#00cc96\", \"#ab63fa\", \"#FFA15A\", \"#19d3f3\", \"#FF6692\", \"#B6E880\", \"#FF97FF\", \"#FECB52\"], \"font\": {\"color\": \"#2a3f5f\"}, \"geo\": {\"bgcolor\": \"white\", \"lakecolor\": \"white\", \"landcolor\": \"#E5ECF6\", \"showlakes\": true, \"showland\": true, \"subunitcolor\": \"white\"}, \"hoverlabel\": {\"align\": \"left\"}, \"hovermode\": \"closest\", \"mapbox\": {\"style\": \"light\"}, \"paper_bgcolor\": \"white\", \"plot_bgcolor\": \"#E5ECF6\", \"polar\": {\"angularaxis\": {\"gridcolor\": \"white\", \"linecolor\": \"white\", \"ticks\": \"\"}, \"bgcolor\": \"#E5ECF6\", \"radialaxis\": {\"gridcolor\": \"white\", \"linecolor\": \"white\", \"ticks\": \"\"}}, \"scene\": {\"xaxis\": {\"backgroundcolor\": \"#E5ECF6\", \"gridcolor\": \"white\", \"gridwidth\": 2, \"linecolor\": \"white\", \"showbackground\": true, \"ticks\": \"\", \"zerolinecolor\": \"white\"}, \"yaxis\": {\"backgroundcolor\": \"#E5ECF6\", \"gridcolor\": \"white\", \"gridwidth\": 2, \"linecolor\": \"white\", \"showbackground\": true, \"ticks\": \"\", \"zerolinecolor\": \"white\"}, \"zaxis\": {\"backgroundcolor\": \"#E5ECF6\", \"gridcolor\": \"white\", \"gridwidth\": 2, \"linecolor\": \"white\", \"showbackground\": true, \"ticks\": \"\", \"zerolinecolor\": \"white\"}}, \"shapedefaults\": {\"line\": {\"color\": \"#2a3f5f\"}}, \"ternary\": {\"aaxis\": {\"gridcolor\": \"white\", \"linecolor\": \"white\", \"ticks\": \"\"}, \"baxis\": {\"gridcolor\": \"white\", \"linecolor\": \"white\", \"ticks\": \"\"}, \"bgcolor\": \"#E5ECF6\", \"caxis\": {\"gridcolor\": \"white\", \"linecolor\": \"white\", \"ticks\": \"\"}}, \"title\": {\"x\": 0.05}, \"xaxis\": {\"automargin\": true, \"gridcolor\": \"white\", \"linecolor\": \"white\", \"ticks\": \"\", \"title\": {\"standoff\": 15}, \"zerolinecolor\": \"white\", \"zerolinewidth\": 2}, \"yaxis\": {\"automargin\": true, \"gridcolor\": \"white\", \"linecolor\": \"white\", \"ticks\": \"\", \"title\": {\"standoff\": 15}, \"zerolinecolor\": \"white\", \"zerolinewidth\": 2}}}},\n",
              "                        {\"responsive\": true}\n",
              "                    ).then(function(){\n",
              "                            \n",
              "var gd = document.getElementById('1ae8080b-eb6f-4d70-9fec-9cec7e31e730');\n",
              "var x = new MutationObserver(function (mutations, observer) {{\n",
              "        var display = window.getComputedStyle(gd).display;\n",
              "        if (!display || display === 'none') {{\n",
              "            console.log([gd, 'removed!']);\n",
              "            Plotly.purge(gd);\n",
              "            observer.disconnect();\n",
              "        }}\n",
              "}});\n",
              "\n",
              "// Listen for the removal of the full notebook cells\n",
              "var notebookContainer = gd.closest('#notebook-container');\n",
              "if (notebookContainer) {{\n",
              "    x.observe(notebookContainer, {childList: true});\n",
              "}}\n",
              "\n",
              "// Listen for the clearing of the current output cell\n",
              "var outputEl = gd.closest('.output');\n",
              "if (outputEl) {{\n",
              "    x.observe(outputEl, {childList: true});\n",
              "}}\n",
              "\n",
              "                        })\n",
              "                };\n",
              "                \n",
              "            </script>\n",
              "        </div>\n",
              "</body>\n",
              "</html>"
            ]
          },
          "metadata": {
            "tags": []
          }
        }
      ]
    },
    {
      "cell_type": "code",
      "metadata": {
        "id": "yqwUYQWIVoWc",
        "outputId": "166f89fb-7813-404e-dd50-33d9987faca9",
        "colab": {
          "base_uri": "https://localhost:8080/"
        }
      },
      "source": [
        "tx = verkauf\n",
        "#tx.dropna(subset=[\"Versanddatum\"])\n",
        "\n",
        "#print(tx.head)\n",
        "#tx =tx[\"Versanddatum\"]\n",
        "#tx.dropna(subset=['Versanddatum'])\n",
        "t2[\"Verkaufsdatum\"] = pd.to_datetime(t2[\"Verkaufsdatum\"])\n",
        "t2[\"Jahr\"] = t2[\"Verkaufsdatum\"].dt.year\n",
        "t2[\"Monat\"] = t2[\"Verkaufsdatum\"].dt.month\n",
        "t2[\"Tag\"] = t2[\"Verkaufsdatum\"].dt.day\n",
        "\n",
        "tx[\"m\"] = [s[0:2]  if s[2:3] == '/' else s[0:5] for s in tx[\"Versanddatum\"]]\n",
        "tx[\"d\"] = [s[3:5]  if s[2:3] == '/' else s[0:5] for s in tx[\"Versanddatum\"]]\n",
        "tx[\"y\"] = [s[6:8]  if s[2:3] == '/' else s[0:5] for s in tx[\"Versanddatum\"]]\n",
        "#tx.at[\"spl\"] = tx[\"Versanddatum\"].split(\"/\").get(1)\n",
        "print(tx)\n"
      ],
      "execution_count": 60,
      "outputs": [
        {
          "output_type": "stream",
          "text": [
            "    Verkaufsdatum                                        Titel  ...   d   y\n",
            "0        10/05/20               Mäppchen \"richtig viel Chemie\"  ...  05  20\n",
            "1        10/05/20          Mäppchen \"Lehrerkram“ ( Bleistifte)  ...  05  20\n",
            "2        10/04/20     Mäppchen \"Lehrerkram\" (Buchstabenwürfel)  ...  04  20\n",
            "3        10/03/20  Mäppchen „Lehrerkram“ (grau/rosa Sternchen)  ...  03  20\n",
            "4        10/02/20         Mäppchen \"Lehrerkram“ (a bis z) blau  ...  02  20\n",
            "..            ...                                          ...  ...  ..  ..\n",
            "340      01/11/20     Mäppchen \"Lehrerkram\" (grau*rosa*Sterne)  ...  13  20\n",
            "341      01/11/20         Mäppchen \"Lehrerkram“ (Chemie-Labor)  ...  13  20\n",
            "342      01/09/20     Mäppchen \"Lehrerkram\" (grau*rosa*Sterne)  ...  10  20\n",
            "343      01/09/20                    Kulturbeutel \"Männerkram\"  ...  10  20\n",
            "344      01/02/20              Mäppchen \"Lehrerkram\" (Maßband)  ...  07  20\n",
            "\n",
            "[345 rows x 15 columns]\n"
          ],
          "name": "stdout"
        }
      ]
    },
    {
      "cell_type": "code",
      "metadata": {
        "id": "9dO8O9LzxAOM",
        "outputId": "5d14a946-eb68-410d-c288-9c90dc5c88bd",
        "colab": {
          "base_uri": "https://localhost:8080/"
        }
      },
      "source": [
        "t2 = verkauf\n",
        "\n",
        "t2[\"Verkaufsdatum\"] = pd.to_datetime(t2[\"Verkaufsdatum\"])\n",
        "t2[\"Jahr\"] = t2[\"Verkaufsdatum\"].dt.year\n",
        "t2[\"Monat\"] = t2[\"Verkaufsdatum\"].dt.month\n",
        "t2[\"Tag\"] = t2[\"Verkaufsdatum\"].dt.day\n",
        "#t2[\"y\"] = [to_date(d,\"mm/dd/yyyy\") for d in t2[\"x\"]]\n",
        "print(t2)\n",
        "#t2['monat'] = t2[\"Verkaufsdatum\"].apply()"
      ],
      "execution_count": 108,
      "outputs": [
        {
          "output_type": "stream",
          "text": [
            "    Verkaufsdatum                                        Titel  ...  Jahr  Tag\n",
            "0      2020-10-05               Mäppchen \"richtig viel Chemie\"  ...  2020    5\n",
            "1      2020-10-05          Mäppchen \"Lehrerkram“ ( Bleistifte)  ...  2020    5\n",
            "2      2020-10-04     Mäppchen \"Lehrerkram\" (Buchstabenwürfel)  ...  2020    4\n",
            "3      2020-10-03  Mäppchen „Lehrerkram“ (grau/rosa Sternchen)  ...  2020    3\n",
            "4      2020-10-02         Mäppchen \"Lehrerkram“ (a bis z) blau  ...  2020    2\n",
            "..            ...                                          ...  ...   ...  ...\n",
            "340    2020-01-11     Mäppchen \"Lehrerkram\" (grau*rosa*Sterne)  ...  2020   11\n",
            "341    2020-01-11         Mäppchen \"Lehrerkram“ (Chemie-Labor)  ...  2020   11\n",
            "342    2020-01-09     Mäppchen \"Lehrerkram\" (grau*rosa*Sterne)  ...  2020    9\n",
            "343    2020-01-09                    Kulturbeutel \"Männerkram\"  ...  2020    9\n",
            "344    2020-01-02              Mäppchen \"Lehrerkram\" (Maßband)  ...  2020    2\n",
            "\n",
            "[345 rows x 16 columns]\n"
          ],
          "name": "stdout"
        }
      ]
    },
    {
      "cell_type": "code",
      "metadata": {
        "id": "2wupkjowtv9e",
        "outputId": "794dbb87-b3b6-403c-d80f-6fd27b7dfb08",
        "colab": {
          "base_uri": "https://localhost:8080/"
        }
      },
      "source": [
        "y = tx.groupby([\"y\"]).agg(['count'])\n",
        "print(y)"
      ],
      "execution_count": 52,
      "outputs": [
        {
          "output_type": "stream",
          "text": [
            "   Verkaufsdatum Titel Käufer Stückzahl  ...   PLZ Versandland     m     d\n",
            "           count count  count     count  ... count       count count count\n",
            "y                                        ...                              \n",
            "20           345   345    202       345  ...   345         345   345   345\n",
            "\n",
            "[1 rows x 14 columns]\n"
          ],
          "name": "stdout"
        }
      ]
    },
    {
      "cell_type": "code",
      "metadata": {
        "id": "y_V23ruYGeN2",
        "outputId": "5f9f8a7b-632e-4a51-cecf-3849a5eb0dd7",
        "colab": {
          "base_uri": "https://localhost:8080/",
          "height": 462
        }
      },
      "source": [
        "\n",
        "ft_cities = verkauf[[\"lat\",\"lon\",\"Ort\",\"Titel\"]]\n",
        "ft_cities.tail()\n",
        "\n",
        "verkauf.head()\n"
      ],
      "execution_count": 9,
      "outputs": [
        {
          "output_type": "execute_result",
          "data": {
            "text/html": [
              "<div>\n",
              "<style scoped>\n",
              "    .dataframe tbody tr th:only-of-type {\n",
              "        vertical-align: middle;\n",
              "    }\n",
              "\n",
              "    .dataframe tbody tr th {\n",
              "        vertical-align: top;\n",
              "    }\n",
              "\n",
              "    .dataframe thead th {\n",
              "        text-align: right;\n",
              "    }\n",
              "</style>\n",
              "<table border=\"1\" class=\"dataframe\">\n",
              "  <thead>\n",
              "    <tr style=\"text-align: right;\">\n",
              "      <th></th>\n",
              "      <th>Verkaufsdatum</th>\n",
              "      <th>Titel</th>\n",
              "      <th>Käufer</th>\n",
              "      <th>Stückzahl</th>\n",
              "      <th>Preis</th>\n",
              "      <th>Gesamtanzahl Artikel</th>\n",
              "      <th>Währung</th>\n",
              "      <th>Versanddatum</th>\n",
              "      <th>Strasse</th>\n",
              "      <th>Ort</th>\n",
              "      <th>PLZ</th>\n",
              "      <th>Versandland</th>\n",
              "      <th>addr</th>\n",
              "      <th>lat</th>\n",
              "      <th>lon</th>\n",
              "    </tr>\n",
              "  </thead>\n",
              "  <tbody>\n",
              "    <tr>\n",
              "      <th>0</th>\n",
              "      <td>10/05/20</td>\n",
              "      <td>Mäppchen \"richtig viel Chemie\"</td>\n",
              "      <td>Carolin (8i3k7e6a6lx95fjv)</td>\n",
              "      <td>1</td>\n",
              "      <td>15.9</td>\n",
              "      <td>15.9</td>\n",
              "      <td>EUR</td>\n",
              "      <td>10/05/2020</td>\n",
              "      <td>Starenweg 2</td>\n",
              "      <td>Straubing</td>\n",
              "      <td>94315</td>\n",
              "      <td>Deutschland</td>\n",
              "      <td>Starenweg 2, 94315 Straubing, DE</td>\n",
              "      <td>48.880035</td>\n",
              "      <td>12.602291</td>\n",
              "    </tr>\n",
              "    <tr>\n",
              "      <th>1</th>\n",
              "      <td>10/05/20</td>\n",
              "      <td>Mäppchen \"Lehrerkram“ ( Bleistifte)</td>\n",
              "      <td>NaN</td>\n",
              "      <td>1</td>\n",
              "      <td>15.9</td>\n",
              "      <td>15.9</td>\n",
              "      <td>EUR</td>\n",
              "      <td>10/05/2020</td>\n",
              "      <td>Vácer Straße 50</td>\n",
              "      <td>Donaueschingen</td>\n",
              "      <td>78166</td>\n",
              "      <td>Deutschland</td>\n",
              "      <td>Vácer Straße 50, 78166 Donaueschingen, DE</td>\n",
              "      <td>47.956004</td>\n",
              "      <td>8.482659</td>\n",
              "    </tr>\n",
              "    <tr>\n",
              "      <th>2</th>\n",
              "      <td>10/04/20</td>\n",
              "      <td>Mäppchen \"Lehrerkram\" (Buchstabenwürfel)</td>\n",
              "      <td>Steffi (bvefydbv)</td>\n",
              "      <td>1</td>\n",
              "      <td>15.9</td>\n",
              "      <td>15.9</td>\n",
              "      <td>EUR</td>\n",
              "      <td>10/04/2020</td>\n",
              "      <td>Freiligrathstraße 54</td>\n",
              "      <td>Sömmerda</td>\n",
              "      <td>99610</td>\n",
              "      <td>Deutschland</td>\n",
              "      <td>Freiligrathstraße 54, 99610 Sömmerda, DE</td>\n",
              "      <td>51.159891</td>\n",
              "      <td>11.129798</td>\n",
              "    </tr>\n",
              "    <tr>\n",
              "      <th>3</th>\n",
              "      <td>10/03/20</td>\n",
              "      <td>Mäppchen „Lehrerkram“ (grau/rosa Sternchen)</td>\n",
              "      <td>NaN</td>\n",
              "      <td>1</td>\n",
              "      <td>17.9</td>\n",
              "      <td>17.9</td>\n",
              "      <td>EUR</td>\n",
              "      <td>10/03/2020</td>\n",
              "      <td>Auf der Heide 12</td>\n",
              "      <td>Hüllhorst</td>\n",
              "      <td>32609</td>\n",
              "      <td>Deutschland</td>\n",
              "      <td>Auf der Heide 12, 32609 Hüllhorst, DE</td>\n",
              "      <td>52.250815</td>\n",
              "      <td>8.659212</td>\n",
              "    </tr>\n",
              "    <tr>\n",
              "      <th>4</th>\n",
              "      <td>10/02/20</td>\n",
              "      <td>Mäppchen \"Lehrerkram“ (a bis z) blau</td>\n",
              "      <td>Cornelia (oznhkc7l)</td>\n",
              "      <td>1</td>\n",
              "      <td>17.9</td>\n",
              "      <td>17.9</td>\n",
              "      <td>EUR</td>\n",
              "      <td>10/02/2020</td>\n",
              "      <td>Schroffstr. 21</td>\n",
              "      <td>Mönchengladbach</td>\n",
              "      <td>41199</td>\n",
              "      <td>Deutschland</td>\n",
              "      <td>Schroffstr. 21, 41199 Mönchengladbach, DE</td>\n",
              "      <td>51.146712</td>\n",
              "      <td>6.438745</td>\n",
              "    </tr>\n",
              "  </tbody>\n",
              "</table>\n",
              "</div>"
            ],
            "text/plain": [
              "  Verkaufsdatum  ...        lon\n",
              "0      10/05/20  ...  12.602291\n",
              "1      10/05/20  ...   8.482659\n",
              "2      10/04/20  ...  11.129798\n",
              "3      10/03/20  ...   8.659212\n",
              "4      10/02/20  ...   6.438745\n",
              "\n",
              "[5 rows x 15 columns]"
            ]
          },
          "metadata": {
            "tags": []
          },
          "execution_count": 9
        }
      ]
    }
  ]
}